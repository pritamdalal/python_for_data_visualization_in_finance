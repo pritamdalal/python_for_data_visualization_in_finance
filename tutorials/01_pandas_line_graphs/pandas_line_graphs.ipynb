{
 "cells": [
  {
   "cell_type": "markdown",
   "metadata": {},
   "source": [
    "# Line Graphs with `pandas`"
   ]
  },
  {
   "cell_type": "markdown",
   "metadata": {},
   "source": [
    "In this tutorial we use line graphs to plot various volatility-related time series.  Our analysis objective is to observe the leverage effect: when stock markets suffer losses there is greater volatility.  In order to do this we utilize the built-in visualization capabilities of `pandas`; these capabilities are built on top of the `matplotlib` package.\n",
    "\n",
    "Unlike R, in which a single package (`ggplot2`) has become the de facto standard for visualization, in Python there are a variety of packages that form a visualization ecosystem.  The `matplotlib` package is the foundation of much of this ecosystem, and many elements of this ecosystem can be thought of as wrappers around `matplotlib`.  Such packages include `seaborn` (which we will discuss later) and also the visualization tools in `pandas` which we discuss here.\n",
    "\n",
    "The API for `matplotlib` is fairly low level, which means you have to specify a lot of different things even for simply graphs.  In practice this can be cumbersome, especiallly for quick and dirty plotting.  Many constituents of the Python visualization ecosystem seek to simplify the creation of *standard* graphs, and this is true of the `pandas` visualization functionality."
   ]
  },
  {
   "cell_type": "markdown",
   "metadata": {},
   "source": [
    "### Load Packages"
   ]
  },
  {
   "cell_type": "markdown",
   "metadata": {},
   "source": [
    "Let's begin by loading the packages that we will need."
   ]
  },
  {
   "cell_type": "code",
   "execution_count": null,
   "metadata": {},
   "outputs": [],
   "source": [
    "##> import numpy as np\n",
    "##> import pandas as pd\n",
    "##> import pandas_datareader as pdr\n",
    "\n",
    "\n"
   ]
  },
  {
   "cell_type": "markdown",
   "metadata": {},
   "source": [
    "### `IPython` Magic Commands"
   ]
  },
  {
   "cell_type": "markdown",
   "metadata": {},
   "source": [
    "Now that we are (implictly) using `matplotlib`, we will have occasion to use our first `IPython` magic command. These magic commands are often referred to as simply *magics*.\n",
    "\n",
    "The following line of code tells Jupyter to print graphs as output just below the code cell - in the same way that other ouput is printed to the screen."
   ]
  },
  {
   "cell_type": "code",
   "execution_count": null,
   "metadata": {},
   "outputs": [],
   "source": [
    "##> %matplotlib inline\n",
    "\n"
   ]
  },
  {
   "cell_type": "markdown",
   "metadata": {},
   "source": [
    "Magics are convenience functions that `IPython` adds to base `Python` to make a variety of analysis tasks easier.  \n",
    "\n",
    "Another example is `%timeit` that performs time tests on code."
   ]
  },
  {
   "cell_type": "code",
   "execution_count": null,
   "metadata": {},
   "outputs": [],
   "source": [
    "##> %timeit L = [n ** 2 for n in range(1000)]\n",
    "\n"
   ]
  },
  {
   "cell_type": "markdown",
   "metadata": {},
   "source": [
    "You can read more about magics in Section 1.3 of *PDSH*.  The primary magic command that we will utilize is `%matplotlib inline`."
   ]
  },
  {
   "cell_type": "markdown",
   "metadata": {},
   "source": [
    "### Reading In Data"
   ]
  },
  {
   "cell_type": "markdown",
   "metadata": {},
   "source": [
    "Let's now use `pandas_datareader` to read-in `SPY` and `VIX` data for 2016Q1 through 2021Q2."
   ]
  },
  {
   "cell_type": "code",
   "execution_count": null,
   "metadata": {},
   "outputs": [],
   "source": [
    "##> df_spy = pdr.get_data_yahoo(['SPY', '^VIX'], start='2016-01-01', end='2021-06-30')\n",
    "##> df_spy = df_spy.round(2)\n",
    "##> df_spy.head()\n",
    "\n",
    "\n"
   ]
  },
  {
   "cell_type": "markdown",
   "metadata": {},
   "source": [
    "The following code cleans up the data by isolating the the `Close` prices, resetting the index, and then changing the column names"
   ]
  },
  {
   "cell_type": "code",
   "execution_count": null,
   "metadata": {},
   "outputs": [],
   "source": [
    "##> df_spy = df_spy['Close'].reset_index()\n",
    "##> df_spy.rename(columns={'Date':'date','SPY':'spy','^VIX':'vix'}, inplace=True)\n",
    "##> df_spy.head()\n",
    "\n",
    "\n"
   ]
  },
  {
   "cell_type": "markdown",
   "metadata": {},
   "source": [
    "### Creating a Basic Price Plot"
   ]
  },
  {
   "cell_type": "markdown",
   "metadata": {},
   "source": [
    "Pandas was created by Wes McKinney when he was a quantitative analyst at the hedge fund called AQR.  One of McKinney's goals for `pandas` was to facilitate the analysis of financial time series.  For example, plotting stock prices and returns over time can be done very easily.\n",
    "\n",
    "The following single line of code produces a line graph consisting of the close prices of SPY over time."
   ]
  },
  {
   "cell_type": "code",
   "execution_count": null,
   "metadata": {},
   "outputs": [],
   "source": [
    "##> df_spy.plot(x='date', y='spy');\n",
    "\n"
   ]
  },
  {
   "cell_type": "markdown",
   "metadata": {},
   "source": [
    "Note that `.plot()` is a `DataFrame` method.\n",
    "\n",
    "Now, for the purposes of exploratory data analysis (EDA), this plot may be all that we need.  However, if we needed to share this graph in a publication or presentation, there are a variety of shortcomings that we would need address by utilizing various arguments of the `.plot()` method."
   ]
  },
  {
   "cell_type": "markdown",
   "metadata": {},
   "source": [
    "### Improving Our Graph"
   ]
  },
  {
   "cell_type": "markdown",
   "metadata": {},
   "source": [
    "As a first improvement, let's add a title to our graph, and add some grid lines to make it a little easier to read."
   ]
  },
  {
   "cell_type": "code",
   "execution_count": null,
   "metadata": {},
   "outputs": [],
   "source": [
    "##> df_spy.\\\n",
    "##>     plot(\n",
    "##>         x = 'date',\n",
    "##>         y = 'spy',\n",
    "##>         title = 'SPY: 2016Q1-2021Q2',\n",
    "##>         grid = True,\n",
    "##>     );\n",
    "\n",
    "\n"
   ]
  },
  {
   "cell_type": "markdown",
   "metadata": {},
   "source": [
    "In order to add custom labels to the x-axis and y-axis we will have to work with the `matplotlib` API.  Don't worry about the details too much right now, just copy this code if you need to relabel your axes."
   ]
  },
  {
   "cell_type": "code",
   "execution_count": null,
   "metadata": {},
   "outputs": [],
   "source": [
    "##> ax = df_spy.\\\n",
    "##>         plot(\n",
    "##>             x = 'date',\n",
    "##>             y = 'spy',\n",
    "##>             title = 'SPY: 2016Q1-2021Q2',\n",
    "##>             grid = True,\n",
    "##>         );\n",
    "##> ax.set_xlabel('Trade Date');\n",
    "##> ax.set_ylabel('Close Price');\n",
    "\n",
    "\n"
   ]
  },
  {
   "cell_type": "markdown",
   "metadata": {},
   "source": [
    " "
   ]
  },
  {
   "cell_type": "markdown",
   "metadata": {},
   "source": [
    "**Coding Challenge:** Copy the code above and then see what the effect is of adding these arguments to `.plot()`:\n",
    "\n",
    "    1. figsize = (10, 5)\n",
    "    2. style = 'k--'\n",
    "    3. alpha = 0.5"
   ]
  },
  {
   "cell_type": "code",
   "execution_count": null,
   "metadata": {},
   "outputs": [],
   "source": [
    "##> ax = df_spy.\\\n",
    "##>         plot(\n",
    "##>             x = 'date',\n",
    "##>             y = 'spy',\n",
    "##>             title = 'SPY: 2016Q1-2021Q2',\n",
    "##>             grid = True,\n",
    "##>             figsize = (10, 5),\n",
    "##>             style = 'k--',\n",
    "##>             alpha = 0.5,\n",
    "##>         );\n",
    "##> ax.set_xlabel('Trade Date');\n",
    "##> ax.set_ylabel('Close Price');\n",
    "\n",
    "\n"
   ]
  },
  {
   "cell_type": "markdown",
   "metadata": {},
   "source": [
    "For the remainder of the tutorial we will utilize graphs as we would for EDA, so we won't concern ourselves with titles and labels.  \n",
    "\n",
    "However, whenever graphs are being used to communicate results with a broader audience, they should be properly labeled."
   ]
  },
  {
   "cell_type": "markdown",
   "metadata": {},
   "source": [
    "### Subplot of Price and Returns"
   ]
  },
  {
   "cell_type": "markdown",
   "metadata": {},
   "source": [
    "In this section, we will plot prices and returns as subplots on the same x-axis.  This dual plot will be our first observation of the *leverage effect*: when the stock market suffers losses, there is greater volatility."
   ]
  },
  {
   "cell_type": "markdown",
   "metadata": {},
   "source": [
    "Let's begin by adding a `return` column to `df_spy`."
   ]
  },
  {
   "cell_type": "code",
   "execution_count": null,
   "metadata": {},
   "outputs": [],
   "source": [
    "##> df_spy['return'] = df_spy['spy'] / df_spy['spy'].shift(1) - 1\n",
    "##> df_spy.head()\n",
    "\n",
    "\n"
   ]
  },
  {
   "cell_type": "markdown",
   "metadata": {},
   "source": [
    "Now we can use the `subplots` argument of `.plot()` to plot both the prices and returns simulatneously."
   ]
  },
  {
   "cell_type": "code",
   "execution_count": null,
   "metadata": {},
   "outputs": [],
   "source": [
    "##> df_spy.plot(x='date', y=['spy', 'return'], subplots=True, style='k', grid=True, alpha=0.75, figsize=(8, 8),);\n",
    "\n"
   ]
  },
  {
   "cell_type": "markdown",
   "metadata": {},
   "source": [
    "It is easy to confirm visually that when the market goes down, the magnitude of the proximate returns is large, i.e. there is greater volatility.  Similarly, during bull markets, returns tend to be smaller in magnitude."
   ]
  },
  {
   "cell_type": "markdown",
   "metadata": {},
   "source": [
    "### Realized Volatility"
   ]
  },
  {
   "cell_type": "markdown",
   "metadata": {},
   "source": [
    "Plotting the realized volatility - i.e. the rolling standard deviation - is another way to observe the leverage effect.\n",
    "\n",
    "In order to execute rolling calculations  in `pandas` we will use the `DataFrame.rolling()` method."
   ]
  },
  {
   "cell_type": "code",
   "execution_count": null,
   "metadata": {},
   "outputs": [],
   "source": [
    "##> pd.options.display.max_rows = 6\n",
    "##> df_spy['return'].rolling(42).std() * np.sqrt(252)\n",
    "\n"
   ]
  },
  {
   "cell_type": "markdown",
   "metadata": {},
   "source": [
    " "
   ]
  },
  {
   "cell_type": "markdown",
   "metadata": {},
   "source": [
    "Note that the argument of `.rolling()` is the window size, which we have set to two months. \n",
    "\n",
    "Let's add this rolling realized volatility calculation to `df_spy`."
   ]
  },
  {
   "cell_type": "code",
   "execution_count": null,
   "metadata": {},
   "outputs": [],
   "source": [
    "##> df_spy['realized_vol'] = df_spy['return'].rolling(42).std() * np.sqrt(252)\n",
    "##> df_spy.head()\n",
    "\n"
   ]
  },
  {
   "cell_type": "markdown",
   "metadata": {},
   "source": [
    "Again, we can use the `subplot` argument of `.plot()` to plot all three time series."
   ]
  },
  {
   "cell_type": "code",
   "execution_count": null,
   "metadata": {},
   "outputs": [],
   "source": [
    "##> df_spy.plot(x='date', y=['spy', 'return', 'realized_vol',], subplots=True, style='k', grid=True, alpha=0.75, figsize=(8, 12));\n",
    "\n"
   ]
  },
  {
   "cell_type": "markdown",
   "metadata": {},
   "source": [
    "Notice that when there is a market downturn, there is a spike in the realized volatility graph."
   ]
  },
  {
   "cell_type": "markdown",
   "metadata": {},
   "source": [
    "### Implied Volatility - The VIX Index"
   ]
  },
  {
   "cell_type": "markdown",
   "metadata": {},
   "source": [
    "During times of market stress, options all become more expensive.  One measure of the relative cheapness or expensiveness of options is *implied volatility*.  When options become more expensive, implied volatility rises.\n",
    "\n",
    "One of the complexities of implied volatility measurements is that even for a single underlying they differ depending on strike and expiration.  However, all implied volatility measurements tend to rise and fall together.\n",
    "\n",
    "The VIX index is a single number that summarizes the general level of option implied volatility for options on the S&P500.  The S&P500 represents a large number of the most important stocks in America.  Moreover, S&P500 options are the most actively traded options in the world.  For these reasons, the VIX is a good barometer for overall implied volatility level in the stock market. "
   ]
  },
  {
   "cell_type": "markdown",
   "metadata": {},
   "source": [
    "Let's plot `vix` along side the other volatility  measures in the same graph."
   ]
  },
  {
   "cell_type": "code",
   "execution_count": null,
   "metadata": {},
   "outputs": [],
   "source": [
    "##> df_spy.plot(x='date', y=['spy', 'return', 'realized_vol', 'vix',], subplots=True, style='k', grid=True, alpha=0.75, figsize=(8, 16));\n",
    "\n"
   ]
  },
  {
   "cell_type": "markdown",
   "metadata": {},
   "source": [
    "This plot demonstrates typical behavior of stock market returns and volatility:  when there is a market downturn, there is a spike in both implied volatility and realized volatility."
   ]
  },
  {
   "cell_type": "markdown",
   "metadata": {},
   "source": [
    "## Further Reading"
   ]
  },
  {
   "cell_type": "markdown",
   "metadata": {},
   "source": [
    "*PDSH* - 1.3 - Python Magic Commands\n",
    "\n",
    "*P4F* - 6.2 - Financial Data\n",
    "\n",
    "*P4DA* - 8.1 - A Brief `matplotlib` API Primer\n",
    "\n",
    "*P4DA* - 8.2 - Plotting Functions in `pandas`"
   ]
  }
 ],
 "metadata": {
  "kernelspec": {
   "display_name": "Python 3",
   "language": "python",
   "name": "python3"
  },
  "language_info": {
   "codemirror_mode": {
    "name": "ipython",
    "version": 3
   },
   "file_extension": ".py",
   "mimetype": "text/x-python",
   "name": "python",
   "nbconvert_exporter": "python",
   "pygments_lexer": "ipython3",
   "version": "3.8.10"
  }
 },
 "nbformat": 4,
 "nbformat_minor": 4
}
