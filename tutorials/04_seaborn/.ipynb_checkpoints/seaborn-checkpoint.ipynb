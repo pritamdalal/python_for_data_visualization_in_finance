{
 "cells": [
  {
   "cell_type": "markdown",
   "metadata": {},
   "source": [
    "# Visualization with `seaborn`"
   ]
  },
  {
   "cell_type": "markdown",
   "metadata": {},
   "source": [
    "In the previous few tutorials we used the built-in plotting capabilities of `pandas` to create some useful financial graphs.  In this tutorial, we recreate those plots using the `seaborn` visualization package.\n",
    "\n",
    "Like the `pandas` visualization functionality, `seaborn` is built on top of the `matplotlib` package.  As previously discussed, `matplotlib` allows for low level control over visualizations, which makes it very flexible.  However, this flexibility comes at the cost of complexity.  In contrast, `seaborn` provides a high level interface that allows for easy implementations of attractive graphs. \n",
    "\n",
    "The focus of `seaborn` is general statistical data visualizations, whereas `pandas` is more tailor-made for financial time series.\n",
    "\n",
    "This tutorial is not meant to be a comprehensive introduction to `seaborn`.  Rather, my intention is to simply show you the code for a few graphs types that I have found useful in finance. For a thorough introduction to `seaborn`, I recommend working through the official tutorials that are linked in the Further Reading section - they are extremely well done, but quite long."
   ]
  },
  {
   "cell_type": "markdown",
   "metadata": {},
   "source": [
    "### Loading Packages"
   ]
  },
  {
   "cell_type": "markdown",
   "metadata": {},
   "source": [
    "Let's load the packages that we will be using."
   ]
  },
  {
   "cell_type": "code",
   "execution_count": null,
   "metadata": {},
   "outputs": [],
   "source": [
    "##> import numpy as np\n",
    "##> import pandas as pd\n",
    "##> import pandas_datareader as pdr\n",
    "##> import matplotlib.pyplot as plt\n",
    "##> %matplotlib inline\n",
    "##> import seaborn as sns\n",
    "\n",
    "\n"
   ]
  },
  {
   "cell_type": "markdown",
   "metadata": {},
   "source": [
    "### Line Graph - Prices, Returns, Realized Vol, VIX"
   ]
  },
  {
   "cell_type": "markdown",
   "metadata": {},
   "source": [
    "Let's read-in and wrangle some data for SPY during 2016Q1-2021Q2."
   ]
  },
  {
   "cell_type": "code",
   "execution_count": null,
   "metadata": {},
   "outputs": [],
   "source": [
    "##> df_spy = pdr.get_data_yahoo(['SPY', '^VIX'], start='2016-01-01', end='2021-06-30')\n",
    "##> df_spy = df_spy.round(2)\n",
    "##> df_spy = df_spy['Close'].reset_index()\n",
    "##> df_spy.rename(columns={'Date':'date','SPY':'spy','^VIX':'vix'}, inplace=True)\n",
    "##> df_spy.head()\n",
    "\n",
    "\n"
   ]
  },
  {
   "cell_type": "markdown",
   "metadata": {},
   "source": [
    "Next let's add `returns` and `realized_vol` to the `df_spy`."
   ]
  },
  {
   "cell_type": "code",
   "execution_count": null,
   "metadata": {},
   "outputs": [],
   "source": [
    "##> df_spy['return'] = df_spy['spy'] / df_spy['spy'].shift(1) - 1\n",
    "##> df_spy['realized_vol'] = df_spy['return'].rolling(42).std() * np.sqrt(252)\n",
    "##> df_spy.head()\n",
    "\n",
    "\n"
   ]
  },
  {
   "cell_type": "markdown",
   "metadata": {},
   "source": [
    "#### Graphing with `pandas`"
   ]
  },
  {
   "cell_type": "markdown",
   "metadata": {},
   "source": [
    "Recall that `pandas` allows us to quickly graph these four time-series in a single figure."
   ]
  },
  {
   "cell_type": "code",
   "execution_count": null,
   "metadata": {},
   "outputs": [],
   "source": [
    "##> df_spy. \\\n",
    "##>     plot(\n",
    "##>         x = 'date', \n",
    "##>         y = ['spy', 'return', 'realized_vol', 'vix',],\n",
    "##>         subplots = True,\n",
    "##>         figsize=(8, 12),\n",
    "##>         title='SPY 2016Q1-2021Q2',\n",
    "##>     );\n",
    "##> plt.subplots_adjust(top=0.96); # this adjusts the location of the title\n",
    "\n",
    "\n"
   ]
  },
  {
   "cell_type": "markdown",
   "metadata": {},
   "source": [
    "#### Graphing with `seaborn`"
   ]
  },
  {
   "cell_type": "markdown",
   "metadata": {},
   "source": [
    "Let's create similar graphs with `seaborn`.  Creating all four plots in a single graph is not as easy with `seaborn` and the code is a little confusing.  To keep things simple we will recreate two of the plots separately."
   ]
  },
  {
   "cell_type": "markdown",
   "metadata": {},
   "source": [
    "Here is the code that generates the graph of the daily prices:"
   ]
  },
  {
   "cell_type": "code",
   "execution_count": null,
   "metadata": {},
   "outputs": [],
   "source": [
    "##> with sns.axes_style('darkgrid'):\n",
    "##>     g = sns.relplot(x='date', y='spy', kind='line', data=df_spy, aspect=1.5)\n",
    "##>     g.fig.autofmt_xdate()\n",
    "##>     # creating and tweaking the title\n",
    "##>     g.fig.suptitle('SPY Close Price: 2016Q1-2021Q2')\n",
    "##>     plt.subplots_adjust(top=0.93);\n",
    "\n",
    "\n"
   ]
  },
  {
   "cell_type": "markdown",
   "metadata": {},
   "source": [
    "And here is the code produces the graph of the daily returns:"
   ]
  },
  {
   "cell_type": "code",
   "execution_count": null,
   "metadata": {},
   "outputs": [],
   "source": [
    "##> with sns.axes_style('darkgrid'):\n",
    "##>     g = sns.relplot(x='date', y='return', kind='line', data=df_spy, aspect=1.5)\n",
    "##>     g.fig.autofmt_xdate()\n",
    "##>     # creating and tweaking the title\n",
    "##>     g.fig.suptitle('SPY Close Price: 2016Q1-2021Q2');\n",
    "##>     plt.subplots_adjust(top=0.93);\n",
    "\n",
    "\n"
   ]
  },
  {
   "cell_type": "markdown",
   "metadata": {},
   "source": [
    "### Bar Graph - Monthly SPY Call PNLs"
   ]
  },
  {
   "cell_type": "markdown",
   "metadata": {},
   "source": [
    "Our next data set consists of monthly pnls from the call trades detailed in `spy_call_pnl.csv`."
   ]
  },
  {
   "cell_type": "code",
   "execution_count": null,
   "metadata": {},
   "outputs": [],
   "source": [
    "##> df_monthly_bar = pd.read_csv('seaborn_monthly_pnl_bar.csv')\n",
    "##> df_monthly_bar.head()\n",
    "\n",
    "\n"
   ]
  },
  {
   "cell_type": "markdown",
   "metadata": {},
   "source": [
    "#### Graphing with `pandas`"
   ]
  },
  {
   "cell_type": "markdown",
   "metadata": {},
   "source": [
    "Recall that this code creates the barplot of the pnls by month using `pandas`:"
   ]
  },
  {
   "cell_type": "code",
   "execution_count": null,
   "metadata": {},
   "outputs": [],
   "source": [
    "##> ax = \\\n",
    "##>     (df_monthly_bar\n",
    "##>         .plot(\n",
    "##>             x = 'month',\n",
    "##>             y = ['monthly_pnl'],\n",
    "##>             kind ='bar',\n",
    "##>             color='k', # color is grey\n",
    "##>             grid=True, # adding a grid\n",
    "##>             alpha=0.75, # translucence\n",
    "##>             width=0.8, # increasing the width of the bars\n",
    "##>             title='Monthly PNL for SPY Calls',\n",
    "##>             figsize=(8, 5), # modifying the figure size\n",
    "##>         ));\n",
    "##> \n",
    "##> ax.set_xlabel(\"Month\"); # x-axis label\n",
    "##> ax.set_ylabel(\"PNL\");   # y-axis label\n",
    "\n",
    "\n"
   ]
  },
  {
   "cell_type": "markdown",
   "metadata": {},
   "source": [
    "#### Graphing with `seaborn`"
   ]
  },
  {
   "cell_type": "markdown",
   "metadata": {},
   "source": [
    "Here is the code that produces a similar graph in using `seaborn`:"
   ]
  },
  {
   "cell_type": "code",
   "execution_count": null,
   "metadata": {},
   "outputs": [],
   "source": [
    "##> with sns.axes_style('darkgrid'):\n",
    "##>     g = sns.catplot(\n",
    "##>         x='month'\n",
    "##>         , y='monthly_pnl'\n",
    "##>         , kind='bar'\n",
    "##>         , color='black'\n",
    "##>         , alpha=0.75\n",
    "##>         , height=5\n",
    "##>         , aspect = 1.5\n",
    "##>         , data=df_monthly_bar\n",
    "##>     );\n",
    "##>     plt.subplots_adjust(top=0.93);\n",
    "##>     g.fig.suptitle('Monthly PNL for SPY Calls');"
   ]
  },
  {
   "cell_type": "markdown",
   "metadata": {},
   "source": [
    "### Scatter Plot - SPY Returns vs VIX Change (*implied leverage*)"
   ]
  },
  {
   "cell_type": "markdown",
   "metadata": {},
   "source": [
    "Let's add `vix_chng` to `df_spy` and change the units to decimals. "
   ]
  },
  {
   "cell_type": "code",
   "execution_count": null,
   "metadata": {},
   "outputs": [],
   "source": [
    "##> df_spy['vix_chng'] = df_spy['vix'].diff()\n",
    "##> df_spy['vix'] = df_spy['vix'] / 100\n",
    "##> df_spy['vix_chng'] = df_spy['vix_chng'] / 100\n",
    "##> df_spy.head()\n",
    "\n",
    "\n"
   ]
  },
  {
   "cell_type": "markdown",
   "metadata": {},
   "source": [
    "#### Graphing with `pandas`"
   ]
  },
  {
   "cell_type": "markdown",
   "metadata": {},
   "source": [
    "Here is the `pandas` code that creates scatter plot of returns vs VIX changes:"
   ]
  },
  {
   "cell_type": "code",
   "execution_count": null,
   "metadata": {},
   "outputs": [],
   "source": [
    "##> df_spy.plot.scatter(\n",
    "##>     x = 'return',\n",
    "##>     y = 'vix_chng',\n",
    "##>     grid=True ,  \n",
    "##>     c='k',\n",
    "##>     alpha=0.75,\n",
    "##>     s=10, # changing the size of the dots\n",
    "##>     figsize=(7, 5),\n",
    "##>     title='SPY Return vs VIX Changes: 2016Q1-2021Q2',\n",
    "##> );\n",
    "\n",
    "\n"
   ]
  },
  {
   "cell_type": "markdown",
   "metadata": {},
   "source": [
    "#### Graphing with `seaborn`"
   ]
  },
  {
   "cell_type": "markdown",
   "metadata": {},
   "source": [
    "Here is the code for a similar graph using `seaborn`:"
   ]
  },
  {
   "cell_type": "code",
   "execution_count": null,
   "metadata": {},
   "outputs": [],
   "source": [
    "##> with sns.axes_style('darkgrid'):\n",
    "##>     g = sns.relplot(\n",
    "##>             x = 'return',\n",
    "##>             y = 'vix_chng',\n",
    "##>             data = df_spy,\n",
    "##>             color = 'black',\n",
    "##>             alpha = 0.75,\n",
    "##>             height = 5.5,\n",
    "##>             aspect = 1.3,\n",
    "##>         );\n",
    "##>     plt.subplots_adjust(top=0.93);\n",
    "##>     g.fig.suptitle('SPY Return vs VIX Changes: 2016Q1-2021Q2)');\n",
    "\n",
    "\n"
   ]
  },
  {
   "cell_type": "markdown",
   "metadata": {},
   "source": [
    " "
   ]
  },
  {
   "cell_type": "markdown",
   "metadata": {},
   "source": [
    "### Further Reading\n",
    "\n",
    "*PDSH* - 4.14 - Visualization with Seaborn\n",
    "\n",
    "Seaborn Official Tutorials - https://seaborn.pydata.org/tutorial.html (very good, but long)"
   ]
  }
 ],
 "metadata": {
  "kernelspec": {
   "display_name": "Python 3",
   "language": "python",
   "name": "python3"
  },
  "language_info": {
   "codemirror_mode": {
    "name": "ipython",
    "version": 3
   },
   "file_extension": ".py",
   "mimetype": "text/x-python",
   "name": "python",
   "nbconvert_exporter": "python",
   "pygments_lexer": "ipython3",
   "version": "3.8.10"
  }
 },
 "nbformat": 4,
 "nbformat_minor": 4
}
