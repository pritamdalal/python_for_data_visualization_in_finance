{
 "cells": [
  {
   "cell_type": "markdown",
   "metadata": {},
   "source": [
    "# Tutorial 12 - Line Graphs with `pandas`"
   ]
  },
  {
   "cell_type": "markdown",
   "metadata": {},
   "source": [
    "In this tutorial we begin our discussion of data visualization in Python.  As a first exercise in visualization, we graph various volatility-related time series which demonstrate certain features of stock market returns.  In order to do this we utilize some of `pandas` built-in visualization tools.  These visualization tools are built on top of the `matplotlib` package.\n",
    "\n",
    "Unlike R, in which a single package (`ggplot2`) has become the de facto standard for visualization, in Python there are a variety of packages that form a visualization ecosystem.  The `matplotlib` package is the foundation of much of the modern plotting ecosystem, and many elements of this ecosystem can be thought of as a wrapper around `matplotlib`.  Such packages include `seaborn` (which we will discuss later) and also the visualization tools in `pandas` which we discuss here.\n",
    "\n",
    "The API for `matplotlib` is fairly low level, which means you have to specify a lot of different things for each graph.  In practice this can be cumbersome for quick plotting.  Many of parts of the visualization ecosystem seek to simplify the creation of *standard* graphs, and this is true of the `pandas` visualization functionality."
   ]
  },
  {
   "cell_type": "markdown",
   "metadata": {},
   "source": [
    "### Load Packages"
   ]
  },
  {
   "cell_type": "markdown",
   "metadata": {},
   "source": [
    "Let's begin by loading the packages that we will need."
   ]
  },
  {
   "cell_type": "code",
   "execution_count": null,
   "metadata": {},
   "outputs": [],
   "source": [
    "##> import numpy as np\n",
    "##> import pandas as pd\n",
    "\n",
    "\n"
   ]
  },
  {
   "cell_type": "markdown",
   "metadata": {},
   "source": [
    "### `IPython` Magic Commands"
   ]
  },
  {
   "cell_type": "markdown",
   "metadata": {},
   "source": [
    "Now that we are (implictly) using `matplotlib`, we will have occasion to use our first `IPython` magic command, which are often referred to as simply *magics*.\n",
    "\n",
    "The following line of code tells Jupyter to print graphs as output just below the code cell - in the same way that other ouput is printed to the screen."
   ]
  },
  {
   "cell_type": "code",
   "execution_count": null,
   "metadata": {},
   "outputs": [],
   "source": [
    "##> %matplotlib inline\n",
    "\n"
   ]
  },
  {
   "cell_type": "markdown",
   "metadata": {},
   "source": [
    "Magics are convenience functions that `IPython` adds to base `Python` to make a variety of analysis tasks easier.  \n",
    "\n",
    "Another example is `%timeit` that performs time tests on code."
   ]
  },
  {
   "cell_type": "code",
   "execution_count": null,
   "metadata": {},
   "outputs": [],
   "source": [
    "##> %timeit L = [n ** 2 for n in range(1000)]\n",
    "\n"
   ]
  },
  {
   "cell_type": "markdown",
   "metadata": {},
   "source": [
    "You can read more about magics in Section 1.3 of *PDSH*.  The primary magic command that we will utilize in this class is `%matplotlib inline`."
   ]
  },
  {
   "cell_type": "markdown",
   "metadata": {},
   "source": [
    "### Reading In Data"
   ]
  },
  {
   "cell_type": "markdown",
   "metadata": {},
   "source": [
    "Let's read in the data that we will use in this tutorial, which is in following file: `spy_2014_2018.csv`.  \n",
    "\n",
    "These are `SPY` prices from Yahoo from 2014-2018. "
   ]
  },
  {
   "cell_type": "code",
   "execution_count": null,
   "metadata": {},
   "outputs": [],
   "source": [
    "##> df_spy = pd.read_csv('../data/spy_2014_2018.csv')\n",
    "##> df_spy.head()\n",
    "\n",
    "\n"
   ]
  },
  {
   "cell_type": "markdown",
   "metadata": {},
   "source": [
    "**Code Challenge:** There is an issue with the data in the `date` column.  How can you identify and fix it?"
   ]
  },
  {
   "cell_type": "code",
   "execution_count": null,
   "metadata": {},
   "outputs": [],
   "source": [
    "\n",
    "\n"
   ]
  },
  {
   "cell_type": "markdown",
   "metadata": {},
   "source": [
    "### Creating a Basic Price Plot"
   ]
  },
  {
   "cell_type": "markdown",
   "metadata": {},
   "source": [
    "Pandas was created by Wes McKinney when he was a quantitative analyst at the hedge fund called AQR.  One of McKinney's goals for `pandas` was to facilitate the analysis of financial time series.  \n",
    "\n",
    "So, for example, plotting stock prices and returns over time can be done very easily.\n",
    "\n",
    "The following single line of code produces a line graph consisting of the adjusted prices of SPY over time."
   ]
  },
  {
   "cell_type": "code",
   "execution_count": null,
   "metadata": {},
   "outputs": [],
   "source": [
    "##> df_spy['adjusted'].plot();\n",
    "\n"
   ]
  },
  {
   "cell_type": "markdown",
   "metadata": {},
   "source": [
    "Note that `.plot()` is a `DataFrame` method.\n",
    "\n",
    "Now, for the purposes of exploratory data analysis (EDA), this plot may be all that you need.  However, if we needed to share this graph in a publication or presentation, there are a variety of shortcomings that we would need address by utilizing various arguments of the `.plot()` method."
   ]
  },
  {
   "cell_type": "markdown",
   "metadata": {},
   "source": [
    "### Improving Our Graph"
   ]
  },
  {
   "cell_type": "markdown",
   "metadata": {},
   "source": [
    "First, notice that the x-axis consists of numbers, rather than the trade-dates.  The reason for this is that by default, `pandas` plotting uses the `index` of the `DataFrame` to label the x-axis.\n",
    "\n",
    "In order for the x-axis labeling to work properly we need to set the `date` column as the `index`."
   ]
  },
  {
   "cell_type": "code",
   "execution_count": null,
   "metadata": {},
   "outputs": [],
   "source": [
    "##> df_spy.set_index(['date'], inplace=True)\n",
    "\n"
   ]
  },
  {
   "cell_type": "markdown",
   "metadata": {},
   "source": [
    "Now, if we graph our plot we will see the dates along the x-axis."
   ]
  },
  {
   "cell_type": "code",
   "execution_count": null,
   "metadata": {},
   "outputs": [],
   "source": [
    "##> df_spy['adjusted'].plot();\n",
    "\n"
   ]
  },
  {
   "cell_type": "markdown",
   "metadata": {},
   "source": [
    "Next, let's add a title to our graph, and add some grid lines to make it a little easier to read."
   ]
  },
  {
   "cell_type": "code",
   "execution_count": null,
   "metadata": {},
   "outputs": [],
   "source": [
    "##> df_spy['adjusted'].\\\n",
    "##>     plot(\n",
    "##>         title = 'SPY: 2014-2018'\n",
    "##>         , grid = True\n",
    "##>     );\n",
    "\n",
    "\n"
   ]
  },
  {
   "cell_type": "markdown",
   "metadata": {},
   "source": [
    "In order to add custom labels to the x-axis and y-axis we will have to work with the `matplotlib` API.  Don't worry about the details too much right now, just copy this code if you need to relabel your axes."
   ]
  },
  {
   "cell_type": "code",
   "execution_count": null,
   "metadata": {},
   "outputs": [],
   "source": [
    "##> ax = df_spy['adjusted'].\\\n",
    "##>         plot(\n",
    "##>             title = 'SPY: 2014-2018'\n",
    "##>             , grid = True\n",
    "##>         );\n",
    "##> ax.set_xlabel('Trade Date');\n",
    "##> ax.set_ylabel('Adjusted Price');\n",
    "\n",
    "\n"
   ]
  },
  {
   "cell_type": "markdown",
   "metadata": {},
   "source": [
    "**Coding Challenge:** Copy the code above and then see what the effect is of adding these arguments to `.plot()`:\n",
    "\n",
    "    1. figsize = (10, 5)\n",
    "    2. style = 'b--'\n",
    "    3. alpha = 0.5"
   ]
  },
  {
   "cell_type": "code",
   "execution_count": null,
   "metadata": {},
   "outputs": [],
   "source": [
    "\n",
    "\n",
    "\n",
    "\n"
   ]
  },
  {
   "cell_type": "markdown",
   "metadata": {},
   "source": [
    "For the remainder of the tutorial we will utilize graphs as we would for EDA, so we won't concern ourselves with title and labels.  \n",
    "\n",
    "However, whenever graphs are being used to communicate results with a broader audience, they should be properly labeled."
   ]
  },
  {
   "cell_type": "markdown",
   "metadata": {},
   "source": [
    "### Subplot of Price and Returns"
   ]
  },
  {
   "cell_type": "markdown",
   "metadata": {},
   "source": [
    "In this section, we will plot prices and returns as subplots on the same x-axis.  This dual plot will demonstrate the *leverage effect*: when the stock market suffers losses, there is greater volatility."
   ]
  },
  {
   "cell_type": "markdown",
   "metadata": {},
   "source": [
    "Let's begin by adding a `returns` column to `df_spy`."
   ]
  },
  {
   "cell_type": "code",
   "execution_count": null,
   "metadata": {},
   "outputs": [],
   "source": [
    "##> df_spy['return'] = \\\n",
    "##>     np.log(df_spy['adjusted']) - np.log(df_spy['adjusted'].shift(1))\n",
    "\n",
    "\n"
   ]
  },
  {
   "cell_type": "markdown",
   "metadata": {},
   "source": [
    "Now we can use the `subplots` argument of `.plot()` to plot both the prices and returns simulatneously."
   ]
  },
  {
   "cell_type": "code",
   "execution_count": null,
   "metadata": {},
   "outputs": [],
   "source": [
    "##> df_spy[['adjusted', 'return']].plot(subplots=True, style='b', alpha=0.75, figsize=(8, 8));\n",
    "\n"
   ]
  },
  {
   "cell_type": "markdown",
   "metadata": {},
   "source": [
    "It is easy to confirm visually that when the market goes down, the magnitude of the proximate returns is large, i.e. there is greater volatility.  Similarly, during bull markets, returns tend to be smaller in magnitude."
   ]
  },
  {
   "cell_type": "markdown",
   "metadata": {},
   "source": [
    "### Realized Volatility"
   ]
  },
  {
   "cell_type": "markdown",
   "metadata": {},
   "source": [
    "Plotting the realized volatility - i.e. the rolling standard deviation - also demonstrates the leverage effect.\n",
    "\n",
    "Rolling calculations are very typical in time series analysis, and so it's not surprising that the can be executed easily in `pandas`.  In particular, we will use the `DataFrame.rolling()` method."
   ]
  },
  {
   "cell_type": "code",
   "execution_count": null,
   "metadata": {},
   "outputs": [],
   "source": [
    "##> pd.options.display.max_rows = 6\n",
    "##> df_spy['return'].rolling(42).std() * np.sqrt(252)\n",
    "\n",
    "\n"
   ]
  },
  {
   "cell_type": "markdown",
   "metadata": {},
   "source": [
    "Note that the argument of `.rolling()` is the window size, which we set to two months. \n",
    "\n",
    "Let's add this rolling realized volatility calculation to `df_spy`."
   ]
  },
  {
   "cell_type": "code",
   "execution_count": null,
   "metadata": {},
   "outputs": [],
   "source": [
    "##> df_spy['realized_vol'] = \\\n",
    "##>     df_spy['return'].rolling(42).std() * np.sqrt(252)\n",
    "\n",
    "\n"
   ]
  },
  {
   "cell_type": "markdown",
   "metadata": {},
   "source": [
    "And again, we can use the `subplot` argument of `.plot()` to plot all three time series."
   ]
  },
  {
   "cell_type": "code",
   "execution_count": null,
   "metadata": {},
   "outputs": [],
   "source": [
    "##> df_spy[['adjusted', 'realized_vol', 'return']].\\\n",
    "##>     plot(subplots=True, style='b', alpha=0.75, figsize=(8, 10));\n",
    "\n",
    "\n"
   ]
  },
  {
   "cell_type": "markdown",
   "metadata": {},
   "source": [
    "Notice that when there is a market downturn, there is a spike in the realized volatility graph."
   ]
  },
  {
   "cell_type": "markdown",
   "metadata": {},
   "source": [
    "### Implied Volatility - The VIX Index"
   ]
  },
  {
   "cell_type": "markdown",
   "metadata": {},
   "source": [
    "During times of market stress, options all become more expensive.  One measure of the relative cheapness or expensiveness of options is *implied volatility*.  When options become more expensive, implied volatility rises.\n",
    "\n",
    "One of the complexities of implied volatility measurements is that even for a single underlying they differ depending on strike and expiration.  However, all implied volatility measurements tend to rise and fall together.\n",
    "\n",
    "The VIX index is a single number that summarizes the general level of option implied volatility for options on the S&P500.  The S&P500 represents a large number of the most important stocks in America.  Moreover, S&P500 options are the most actively traded options in the world.  For these reasons, the VIX is a good barometer for overall implied volatility level in the stock market. "
   ]
  },
  {
   "cell_type": "markdown",
   "metadata": {},
   "source": [
    "Let's take a look at daily VIX levels from 2014 to 2018, which can be found in `vix_2014_2018.csv`."
   ]
  },
  {
   "cell_type": "code",
   "execution_count": null,
   "metadata": {},
   "outputs": [],
   "source": [
    "##> df_vix_all = pd.read_csv('../data/vix_2014_2018.csv')\n",
    "##> df_vix_all.head()\n",
    "\n",
    "\n"
   ]
  },
  {
   "cell_type": "markdown",
   "metadata": {},
   "source": [
    "We are only interested in the `close` price, so let's isolate it into it's own `DataFrame`."
   ]
  },
  {
   "cell_type": "code",
   "execution_count": null,
   "metadata": {},
   "outputs": [],
   "source": [
    "##> df_vix = df_vix_all[['date', 'close']].copy()\n",
    "\n"
   ]
  },
  {
   "cell_type": "markdown",
   "metadata": {},
   "source": [
    "Notice that we have to use the `.copy()` method, or else `df_vix` would be a *reference* to a sub-`DataFrame` of `df_vix_all`."
   ]
  },
  {
   "cell_type": "markdown",
   "metadata": {},
   "source": [
    "**Code Challenge:** Create a `DataFrame` called: `df_test = df_vix_all[['date', 'close']]`. Now, try to change the `dtype` of the `date` column to a `datetime` and see what happens."
   ]
  },
  {
   "cell_type": "code",
   "execution_count": null,
   "metadata": {},
   "outputs": [],
   "source": [
    "\n",
    "\n",
    "\n",
    "\n"
   ]
  },
  {
   "cell_type": "markdown",
   "metadata": {},
   "source": [
    " "
   ]
  },
  {
   "cell_type": "markdown",
   "metadata": {},
   "source": [
    "Next, let's do the following: \n",
    "\n",
    "1. change date type of `date` column; \n",
    "1. set the `date` column to the index; \n",
    "1. reame the `close` column to `vix`."
   ]
  },
  {
   "cell_type": "code",
   "execution_count": null,
   "metadata": {},
   "outputs": [],
   "source": [
    "##> df_vix['date'] = pd.to_datetime(df_vix['date']) # changing date column to datetime\n",
    "##> df_vix.set_index(['date'], inplace=True) # setting date column to index\n",
    "##> df_vix.rename({'close':'vix'}, axis='columns', inplace=True) # renaming 'close' to 'vix'\n",
    "\n",
    "\n"
   ]
  },
  {
   "cell_type": "markdown",
   "metadata": {},
   "source": [
    "Let's get the `vix` column into `df_spy` by joining our two tables together with `pd.merge()`."
   ]
  },
  {
   "cell_type": "code",
   "execution_count": null,
   "metadata": {},
   "outputs": [],
   "source": [
    "##> df_spy = pd.merge(df_spy, df_vix, on=['date'])\n",
    "\n"
   ]
  },
  {
   "cell_type": "markdown",
   "metadata": {},
   "source": [
    "Finally, let's plot all our volatility measures in the same graph."
   ]
  },
  {
   "cell_type": "code",
   "execution_count": null,
   "metadata": {},
   "outputs": [],
   "source": [
    "##> df_spy[['adjusted', 'vix', 'realized_vol', 'return']].\\\n",
    "##>     plot(subplots=True, style='--', figsize=(10, 16));\n",
    "\n",
    "\n"
   ]
  },
  {
   "cell_type": "markdown",
   "metadata": {},
   "source": [
    "This plot demonstrates typical behavior of stock market returns and volatility:\n",
    "\n",
    "When there is a market downturn, there is a spike in both implied volatility and realized volatility."
   ]
  },
  {
   "cell_type": "markdown",
   "metadata": {},
   "source": [
    "## Further Reading"
   ]
  },
  {
   "cell_type": "markdown",
   "metadata": {},
   "source": [
    "*PDSH* - 1.3 - Python Magic Commands\n",
    "\n",
    "*P4F* - 6.2 - Financial Data\n",
    "\n",
    "*P4DA* - 8.1 - A Brief `matplotlib` API Primer\n",
    "\n",
    "*P4DA* - 8.2 - Plotting Functions in `pandas`"
   ]
  }
 ],
 "metadata": {
  "kernelspec": {
   "display_name": "Python 3",
   "language": "python",
   "name": "python3"
  },
  "language_info": {
   "codemirror_mode": {
    "name": "ipython",
    "version": 3
   },
   "file_extension": ".py",
   "mimetype": "text/x-python",
   "name": "python",
   "nbconvert_exporter": "python",
   "pygments_lexer": "ipython3",
   "version": "3.6.8"
  }
 },
 "nbformat": 4,
 "nbformat_minor": 2
}
