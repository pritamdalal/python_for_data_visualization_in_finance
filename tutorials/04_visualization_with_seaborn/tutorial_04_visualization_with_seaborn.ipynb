{
 "cells": [
  {
   "cell_type": "markdown",
   "metadata": {},
   "source": [
    "# Tutorial 15 - Visualization with `seaborn`"
   ]
  },
  {
   "cell_type": "markdown",
   "metadata": {},
   "source": [
    "In the previous few tutorials we used the built-in plotting capabilities of `pandas` to create some useful financial graphs.  In this tutorial, we recreate those plots using the `seaborn` visualization package.\n",
    "\n",
    "Like the `pandas` visualization functionality, `seaborn` is built on top of the `matplotlib` package.  As I've mentioned before, `matplotlib` allows for low level control over visualizations, which makes it very flexible.  However, this flexibility comes at the cost of complexity.  In contrast, `seaborn` provides a high level interface that allows for easy implementations of attractive graphs. \n",
    "\n",
    "The focus of `seaborn` is general statistical data visualizations, whereas `pandas` is more tailor-made for financial time series.\n",
    "\n",
    "This tutorial is not meant to be a comprehensive introduction to `seaborn`.  Rather, my intention is to simply show you the code for a few graphs types that I have found useful in finance. For a thorough introduction to `seaborn`, I recommend working through the official tutorials that are linked in the Further Reading section - they are extremely well done, but quite long."
   ]
  },
  {
   "cell_type": "markdown",
   "metadata": {},
   "source": [
    "### Loading Packages"
   ]
  },
  {
   "cell_type": "markdown",
   "metadata": {},
   "source": [
    "Let's load the packages that we will be using."
   ]
  },
  {
   "cell_type": "code",
   "execution_count": null,
   "metadata": {},
   "outputs": [],
   "source": [
    "##> import numpy as np\n",
    "##> import pandas as pd\n",
    "##> import matplotlib.pyplot as plt\n",
    "##> %matplotlib inline\n",
    "##> import seaborn as sns\n",
    "\n",
    "\n"
   ]
  },
  {
   "cell_type": "markdown",
   "metadata": {},
   "source": [
    "### Line Graph - Prices, Returns, VIX"
   ]
  },
  {
   "cell_type": "markdown",
   "metadata": {},
   "source": [
    "The following data is for SPY during 2014-2018.  It consists of prices, returns, realized volatility, and implied volatility.  Before we plot the data, we will need to:\n",
    "1. refactor the `date` column to a `datetime`\n",
    "1. then set the `date` column as the index."
   ]
  },
  {
   "cell_type": "code",
   "execution_count": null,
   "metadata": {},
   "outputs": [],
   "source": [
    "##> df_spy_line = pd.read_csv('../data/seaborn_spy_line.csv')\n",
    "##> df_spy_line['date'] = pd.to_datetime(df_spy_line['date']) # refactoring date\n",
    "##> df_spy_line.set_index(['date'], inplace=True) # setting date column as index\n",
    "##> df_spy_line.head()\n",
    "\n",
    "\n"
   ]
  },
  {
   "cell_type": "markdown",
   "metadata": {},
   "source": [
    "#### Graphing with `pandas`"
   ]
  },
  {
   "cell_type": "markdown",
   "metadata": {},
   "source": [
    "Recall that `pandas` allows us to quickly graph these four time series in a single figure."
   ]
  },
  {
   "cell_type": "code",
   "execution_count": null,
   "metadata": {},
   "outputs": [],
   "source": [
    "##> df_spy_line[['adjusted', 'vix', 'realized_vol', 'return']].\\\n",
    "##>     plot(\n",
    "##>     subplots=True\n",
    "##>     , figsize=(8, 12)\n",
    "##>     , title='SPY 2014-2018'\n",
    "##>     );\n",
    "##> plt.subplots_adjust(top=0.96); # this adjusts the location of the title"
   ]
  },
  {
   "cell_type": "markdown",
   "metadata": {},
   "source": [
    "#### Graphing with `seaborn`"
   ]
  },
  {
   "cell_type": "markdown",
   "metadata": {},
   "source": [
    "Let's create similar graphs with `seaborn`.  Creating all four plots in a single graph is not as easy with `seaborn` and the code is a little confusing.  To keep things simple we will recreate two of the plots separately.\n",
    "\n",
    "As a first step, we need to reset the index of `df_spy_line` because `seaborn` requires that the data come from the column of the `DataFrame`."
   ]
  },
  {
   "cell_type": "code",
   "execution_count": null,
   "metadata": {},
   "outputs": [],
   "source": [
    "##> df_spy_line.reset_index(inplace=True)\n",
    "\n"
   ]
  },
  {
   "cell_type": "markdown",
   "metadata": {},
   "source": [
    "Here is the code that generates the graph of the daily prices:"
   ]
  },
  {
   "cell_type": "code",
   "execution_count": null,
   "metadata": {},
   "outputs": [],
   "source": [
    "##> with sns.axes_style('darkgrid'):\n",
    "##>     g = sns.relplot(x='date', y='adjusted', kind='line', data=df_spy_line, aspect=1.5)\n",
    "##>     g.fig.autofmt_xdate()\n",
    "##>     # creating and tweaking the title\n",
    "##>     g.fig.suptitle('SPY Adjusted Price: 2014-2018')\n",
    "##>     plt.subplots_adjust(top=0.93);\n",
    "\n",
    "\n"
   ]
  },
  {
   "cell_type": "markdown",
   "metadata": {},
   "source": [
    "And here is the code produces the graph of the daily returns:"
   ]
  },
  {
   "cell_type": "code",
   "execution_count": null,
   "metadata": {},
   "outputs": [],
   "source": [
    "##> with sns.axes_style('darkgrid'):\n",
    "##>     g = sns.relplot(x='date', y='return', kind='line', data=df_spy_line, aspect=1.5)\n",
    "##>     g.fig.autofmt_xdate()\n",
    "##>     # creating and tweaking the title\n",
    "##>     g.fig.suptitle('SPY Daily Returns: 2014-2018');\n",
    "##>     plt.subplots_adjust(top=0.93);\n",
    "\n",
    "\n"
   ]
  },
  {
   "cell_type": "markdown",
   "metadata": {},
   "source": [
    "### Bar Graph - Monthly SPY Call PNLs"
   ]
  },
  {
   "cell_type": "markdown",
   "metadata": {},
   "source": [
    "Our next data set consists of monthly pnls from the call trades detailed in `spy_call_pnl.csv`."
   ]
  },
  {
   "cell_type": "code",
   "execution_count": null,
   "metadata": {},
   "outputs": [],
   "source": [
    "##> df_monthly_bar = pd.read_csv('../data/seaborn_monthly_pnl_bar.csv')\n",
    "##> df_monthly_bar.head()\n",
    "\n",
    "\n"
   ]
  },
  {
   "cell_type": "markdown",
   "metadata": {},
   "source": [
    "#### Graphing with `pandas`"
   ]
  },
  {
   "cell_type": "markdown",
   "metadata": {},
   "source": [
    "Recall that this code creates the barplot of the pnls by month using `pandas`:"
   ]
  },
  {
   "cell_type": "code",
   "execution_count": null,
   "metadata": {},
   "outputs": [],
   "source": [
    "##> ax =\\\n",
    "##>     (df_monthly_bar['monthly_pnl']\n",
    "##>         .plot(\n",
    "##>             kind='bar'\n",
    "##>             , color='k' # color is greay\n",
    "##>             , grid=True # adding a grid\n",
    "##>             , alpha=0.75 # translucence\n",
    "##>             , width=0.8 # increasing the width of the bars\n",
    "##>             , title='Monthly PNL for SPY Calls'\n",
    "##>             , figsize=(8, 5) # modifying the figure size\n",
    "##>         ));\n",
    "##> \n",
    "##> ax.set_xlabel(\"Month\"); # x-axis label\n",
    "##> ax.set_ylabel(\"PNL\");   # y-axis label"
   ]
  },
  {
   "cell_type": "markdown",
   "metadata": {},
   "source": [
    "#### Graphing with `seaborn`"
   ]
  },
  {
   "cell_type": "markdown",
   "metadata": {},
   "source": [
    "Here is the code that produces a similar graph in using `seaborn`:"
   ]
  },
  {
   "cell_type": "code",
   "execution_count": null,
   "metadata": {},
   "outputs": [],
   "source": [
    "##> with sns.axes_style('darkgrid'):\n",
    "##>     g = sns.catplot(\n",
    "##>         x='month'\n",
    "##>         , y='monthly_pnl'\n",
    "##>         , kind='bar'\n",
    "##>         , color='black'\n",
    "##>         , alpha=0.75\n",
    "##>         , height=5\n",
    "##>         , aspect = 1.5\n",
    "##>         , data=df_monthly_bar\n",
    "##>     );\n",
    "##>     plt.subplots_adjust(top=0.93);\n",
    "##>     g.fig.suptitle('SPY Daily Returns: 2014-2018');\n",
    "\n",
    "\n"
   ]
  },
  {
   "cell_type": "markdown",
   "metadata": {},
   "source": [
    "### Scatter Plot - SPY Returns vs VIX Change (*implied leverage*)"
   ]
  },
  {
   "cell_type": "markdown",
   "metadata": {},
   "source": [
    "Our final data set consists of daily returns for SPY and daily changes in the VIX from 2014-2018. "
   ]
  },
  {
   "cell_type": "code",
   "execution_count": null,
   "metadata": {},
   "outputs": [],
   "source": [
    "##> df_leverage_scatter = pd.read_csv('../data/seaborn_leverage_scatter.csv')\n",
    "##> df_leverage_scatter.head()\n",
    "\n",
    "\n"
   ]
  },
  {
   "cell_type": "markdown",
   "metadata": {},
   "source": [
    "#### Graphing with `pandas`"
   ]
  },
  {
   "cell_type": "markdown",
   "metadata": {},
   "source": [
    "Here is the `pandas` code that creates scatter plot of returns vs VIX changes:"
   ]
  },
  {
   "cell_type": "code",
   "execution_count": null,
   "metadata": {},
   "outputs": [],
   "source": [
    "##> df_leverage_scatter.plot.scatter(\n",
    "##>     x = 'spy_ret'\n",
    "##>     , y = 'vix_chng'\n",
    "##>     , grid=True   \n",
    "##>     , c='k'\n",
    "##>     , alpha=0.75\n",
    "##>     , s=10  # changing the size of the dots\n",
    "##>     , figsize=(7, 5)\n",
    "##>     , title='SPY Return vs VIX Changes (2014-2018: daily)'\n",
    "##> );"
   ]
  },
  {
   "cell_type": "markdown",
   "metadata": {},
   "source": [
    "#### Graphing with `seaborn`"
   ]
  },
  {
   "cell_type": "markdown",
   "metadata": {},
   "source": [
    "Here is the code for a similar graph using `seaborn`:"
   ]
  },
  {
   "cell_type": "code",
   "execution_count": null,
   "metadata": {},
   "outputs": [],
   "source": [
    "##> with sns.axes_style('darkgrid'):\n",
    "##>     g = sns.relplot(\n",
    "##>             x='spy_ret'\n",
    "##>             , y='vix_chng'\n",
    "##>             , data=df_leverage_scatter\n",
    "##>             , color = 'black'\n",
    "##>             , alpha = 0.75\n",
    "##>             , height=5 \n",
    "##>             , aspect=1.3\n",
    "##>         );\n",
    "##>     plt.subplots_adjust(top=0.93);\n",
    "##>     g.fig.suptitle('SPY Return vs VIX Changes (2014-2018: daily)');\n",
    "\n",
    "\n"
   ]
  },
  {
   "cell_type": "markdown",
   "metadata": {},
   "source": [
    " "
   ]
  },
  {
   "cell_type": "markdown",
   "metadata": {},
   "source": [
    "### Further Reading\n",
    "\n",
    "*PDSH* - 4.14 - Visualization with Seaborn\n",
    "\n",
    "Seaborn Official Tutorials - https://seaborn.pydata.org/tutorial.html (very good, but long)"
   ]
  }
 ],
 "metadata": {
  "kernelspec": {
   "display_name": "Python 3",
   "language": "python",
   "name": "python3"
  },
  "language_info": {
   "codemirror_mode": {
    "name": "ipython",
    "version": 3
   },
   "file_extension": ".py",
   "mimetype": "text/x-python",
   "name": "python",
   "nbconvert_exporter": "python",
   "pygments_lexer": "ipython3",
   "version": "3.6.8"
  }
 },
 "nbformat": 4,
 "nbformat_minor": 2
}
