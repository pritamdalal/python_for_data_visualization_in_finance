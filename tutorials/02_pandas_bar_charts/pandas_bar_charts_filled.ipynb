{
 "cells": [
  {
   "cell_type": "markdown",
   "metadata": {},
   "source": [
    "# Bar Charts with `pandas`"
   ]
  },
  {
   "cell_type": "markdown",
   "metadata": {},
   "source": [
    "The purpose of this tutorial is to demonstrate how to easily generate bar charts with the `pandas` built-in `.plot()` function.\n",
    "\n",
    "We apply this technique to the task of visualizing monthly pnls for the `spy_2018_call_pnl.csv` data set."
   ]
  },
  {
   "cell_type": "markdown",
   "metadata": {},
   "source": [
    "### Load Packages"
   ]
  },
  {
   "cell_type": "markdown",
   "metadata": {},
   "source": [
    "Let's begin by loading the packages we need:"
   ]
  },
  {
   "cell_type": "code",
   "execution_count": 1,
   "metadata": {},
   "outputs": [],
   "source": [
    "import numpy as np\n",
    "import pandas as pd\n",
    "%matplotlib inline"
   ]
  },
  {
   "cell_type": "markdown",
   "metadata": {},
   "source": [
    " "
   ]
  },
  {
   "cell_type": "markdown",
   "metadata": {},
   "source": [
    "**Knowledge Challenge:** What is the purpose of this line of code in the above cell: `%matplotlib inline`?"
   ]
  },
  {
   "cell_type": "code",
   "execution_count": null,
   "metadata": {},
   "outputs": [],
   "source": [
    "# plotting graphs below code cells\n",
    "\n",
    "\n"
   ]
  },
  {
   "cell_type": "markdown",
   "metadata": {},
   "source": [
    "### Reading-In Data"
   ]
  },
  {
   "cell_type": "markdown",
   "metadata": {},
   "source": [
    "Next, let's read in the data from the CSV file:"
   ]
  },
  {
   "cell_type": "code",
   "execution_count": 2,
   "metadata": {},
   "outputs": [
    {
     "data": {
      "text/html": [
       "<div>\n",
       "<style scoped>\n",
       "    .dataframe tbody tr th:only-of-type {\n",
       "        vertical-align: middle;\n",
       "    }\n",
       "\n",
       "    .dataframe tbody tr th {\n",
       "        vertical-align: top;\n",
       "    }\n",
       "\n",
       "    .dataframe thead th {\n",
       "        text-align: right;\n",
       "    }\n",
       "</style>\n",
       "<table border=\"1\" class=\"dataframe\">\n",
       "  <thead>\n",
       "    <tr style=\"text-align: right;\">\n",
       "      <th></th>\n",
       "      <th>underlying</th>\n",
       "      <th>upx</th>\n",
       "      <th>type</th>\n",
       "      <th>expiration</th>\n",
       "      <th>data_date</th>\n",
       "      <th>strike</th>\n",
       "      <th>bid</th>\n",
       "      <th>ask</th>\n",
       "      <th>implied_vol</th>\n",
       "      <th>delta</th>\n",
       "      <th>dly_opt_pnl</th>\n",
       "      <th>dly_dh_pnl</th>\n",
       "    </tr>\n",
       "  </thead>\n",
       "  <tbody>\n",
       "    <tr>\n",
       "      <th>0</th>\n",
       "      <td>SPY</td>\n",
       "      <td>266.529999</td>\n",
       "      <td>call</td>\n",
       "      <td>2018-01-19</td>\n",
       "      <td>2017-12-15</td>\n",
       "      <td>270</td>\n",
       "      <td>1.14</td>\n",
       "      <td>1.16</td>\n",
       "      <td>0.068257</td>\n",
       "      <td>0.328344</td>\n",
       "      <td>-0.02</td>\n",
       "      <td>0.000000</td>\n",
       "    </tr>\n",
       "    <tr>\n",
       "      <th>1</th>\n",
       "      <td>SPY</td>\n",
       "      <td>268.230011</td>\n",
       "      <td>call</td>\n",
       "      <td>2018-01-19</td>\n",
       "      <td>2017-12-18</td>\n",
       "      <td>270</td>\n",
       "      <td>1.68</td>\n",
       "      <td>1.69</td>\n",
       "      <td>0.071450</td>\n",
       "      <td>0.421353</td>\n",
       "      <td>-0.53</td>\n",
       "      <td>0.558189</td>\n",
       "    </tr>\n",
       "    <tr>\n",
       "      <th>2</th>\n",
       "      <td>SPY</td>\n",
       "      <td>267.250000</td>\n",
       "      <td>call</td>\n",
       "      <td>2018-01-19</td>\n",
       "      <td>2017-12-19</td>\n",
       "      <td>270</td>\n",
       "      <td>1.39</td>\n",
       "      <td>1.41</td>\n",
       "      <td>0.074841</td>\n",
       "      <td>0.365808</td>\n",
       "      <td>0.28</td>\n",
       "      <td>-0.412931</td>\n",
       "    </tr>\n",
       "    <tr>\n",
       "      <th>3</th>\n",
       "      <td>SPY</td>\n",
       "      <td>267.100006</td>\n",
       "      <td>call</td>\n",
       "      <td>2018-01-19</td>\n",
       "      <td>2017-12-20</td>\n",
       "      <td>270</td>\n",
       "      <td>1.10</td>\n",
       "      <td>1.11</td>\n",
       "      <td>0.070911</td>\n",
       "      <td>0.327058</td>\n",
       "      <td>0.30</td>\n",
       "      <td>-0.054869</td>\n",
       "    </tr>\n",
       "    <tr>\n",
       "      <th>4</th>\n",
       "      <td>SPY</td>\n",
       "      <td>267.540009</td>\n",
       "      <td>call</td>\n",
       "      <td>2018-01-19</td>\n",
       "      <td>2017-12-21</td>\n",
       "      <td>270</td>\n",
       "      <td>1.31</td>\n",
       "      <td>1.32</td>\n",
       "      <td>0.072183</td>\n",
       "      <td>0.372113</td>\n",
       "      <td>-0.21</td>\n",
       "      <td>0.143906</td>\n",
       "    </tr>\n",
       "  </tbody>\n",
       "</table>\n",
       "</div>"
      ],
      "text/plain": [
       "  underlying         upx  type  expiration   data_date  strike   bid   ask  \\\n",
       "0        SPY  266.529999  call  2018-01-19  2017-12-15     270  1.14  1.16   \n",
       "1        SPY  268.230011  call  2018-01-19  2017-12-18     270  1.68  1.69   \n",
       "2        SPY  267.250000  call  2018-01-19  2017-12-19     270  1.39  1.41   \n",
       "3        SPY  267.100006  call  2018-01-19  2017-12-20     270  1.10  1.11   \n",
       "4        SPY  267.540009  call  2018-01-19  2017-12-21     270  1.31  1.32   \n",
       "\n",
       "   implied_vol     delta  dly_opt_pnl  dly_dh_pnl  \n",
       "0     0.068257  0.328344        -0.02    0.000000  \n",
       "1     0.071450  0.421353        -0.53    0.558189  \n",
       "2     0.074841  0.365808         0.28   -0.412931  \n",
       "3     0.070911  0.327058         0.30   -0.054869  \n",
       "4     0.072183  0.372113        -0.21    0.143906  "
      ]
     },
     "execution_count": 2,
     "metadata": {},
     "output_type": "execute_result"
    }
   ],
   "source": [
    "df_pnl = pd.read_csv('spy_2018_call_pnl.csv')\n",
    "df_pnl.head()"
   ]
  },
  {
   "cell_type": "markdown",
   "metadata": {},
   "source": [
    "This data consists of daily PNLs from 12 different SPY short call trades throughout 2018."
   ]
  },
  {
   "cell_type": "markdown",
   "metadata": {},
   "source": [
    "### Wrangling"
   ]
  },
  {
   "cell_type": "markdown",
   "metadata": {},
   "source": [
    "First, we will need to refactor the `expiration` and `data_date` columns to `datetime` using the `pd.to_datetime()` method."
   ]
  },
  {
   "cell_type": "code",
   "execution_count": 4,
   "metadata": {},
   "outputs": [
    {
     "data": {
      "text/html": [
       "<div>\n",
       "<style scoped>\n",
       "    .dataframe tbody tr th:only-of-type {\n",
       "        vertical-align: middle;\n",
       "    }\n",
       "\n",
       "    .dataframe tbody tr th {\n",
       "        vertical-align: top;\n",
       "    }\n",
       "\n",
       "    .dataframe thead th {\n",
       "        text-align: right;\n",
       "    }\n",
       "</style>\n",
       "<table border=\"1\" class=\"dataframe\">\n",
       "  <thead>\n",
       "    <tr style=\"text-align: right;\">\n",
       "      <th></th>\n",
       "      <th>underlying</th>\n",
       "      <th>upx</th>\n",
       "      <th>type</th>\n",
       "      <th>expiration</th>\n",
       "      <th>data_date</th>\n",
       "      <th>strike</th>\n",
       "      <th>bid</th>\n",
       "      <th>ask</th>\n",
       "      <th>implied_vol</th>\n",
       "      <th>delta</th>\n",
       "      <th>dly_opt_pnl</th>\n",
       "      <th>dly_dh_pnl</th>\n",
       "    </tr>\n",
       "  </thead>\n",
       "  <tbody>\n",
       "    <tr>\n",
       "      <th>0</th>\n",
       "      <td>SPY</td>\n",
       "      <td>266.529999</td>\n",
       "      <td>call</td>\n",
       "      <td>2018-01-19</td>\n",
       "      <td>2017-12-15</td>\n",
       "      <td>270</td>\n",
       "      <td>1.14</td>\n",
       "      <td>1.16</td>\n",
       "      <td>0.068257</td>\n",
       "      <td>0.328344</td>\n",
       "      <td>-0.02</td>\n",
       "      <td>0.000000</td>\n",
       "    </tr>\n",
       "    <tr>\n",
       "      <th>1</th>\n",
       "      <td>SPY</td>\n",
       "      <td>268.230011</td>\n",
       "      <td>call</td>\n",
       "      <td>2018-01-19</td>\n",
       "      <td>2017-12-18</td>\n",
       "      <td>270</td>\n",
       "      <td>1.68</td>\n",
       "      <td>1.69</td>\n",
       "      <td>0.071450</td>\n",
       "      <td>0.421353</td>\n",
       "      <td>-0.53</td>\n",
       "      <td>0.558189</td>\n",
       "    </tr>\n",
       "    <tr>\n",
       "      <th>2</th>\n",
       "      <td>SPY</td>\n",
       "      <td>267.250000</td>\n",
       "      <td>call</td>\n",
       "      <td>2018-01-19</td>\n",
       "      <td>2017-12-19</td>\n",
       "      <td>270</td>\n",
       "      <td>1.39</td>\n",
       "      <td>1.41</td>\n",
       "      <td>0.074841</td>\n",
       "      <td>0.365808</td>\n",
       "      <td>0.28</td>\n",
       "      <td>-0.412931</td>\n",
       "    </tr>\n",
       "    <tr>\n",
       "      <th>3</th>\n",
       "      <td>SPY</td>\n",
       "      <td>267.100006</td>\n",
       "      <td>call</td>\n",
       "      <td>2018-01-19</td>\n",
       "      <td>2017-12-20</td>\n",
       "      <td>270</td>\n",
       "      <td>1.10</td>\n",
       "      <td>1.11</td>\n",
       "      <td>0.070911</td>\n",
       "      <td>0.327058</td>\n",
       "      <td>0.30</td>\n",
       "      <td>-0.054869</td>\n",
       "    </tr>\n",
       "    <tr>\n",
       "      <th>4</th>\n",
       "      <td>SPY</td>\n",
       "      <td>267.540009</td>\n",
       "      <td>call</td>\n",
       "      <td>2018-01-19</td>\n",
       "      <td>2017-12-21</td>\n",
       "      <td>270</td>\n",
       "      <td>1.31</td>\n",
       "      <td>1.32</td>\n",
       "      <td>0.072183</td>\n",
       "      <td>0.372113</td>\n",
       "      <td>-0.21</td>\n",
       "      <td>0.143906</td>\n",
       "    </tr>\n",
       "  </tbody>\n",
       "</table>\n",
       "</div>"
      ],
      "text/plain": [
       "  underlying         upx  type expiration  data_date  strike   bid   ask  \\\n",
       "0        SPY  266.529999  call 2018-01-19 2017-12-15     270  1.14  1.16   \n",
       "1        SPY  268.230011  call 2018-01-19 2017-12-18     270  1.68  1.69   \n",
       "2        SPY  267.250000  call 2018-01-19 2017-12-19     270  1.39  1.41   \n",
       "3        SPY  267.100006  call 2018-01-19 2017-12-20     270  1.10  1.11   \n",
       "4        SPY  267.540009  call 2018-01-19 2017-12-21     270  1.31  1.32   \n",
       "\n",
       "   implied_vol     delta  dly_opt_pnl  dly_dh_pnl  \n",
       "0     0.068257  0.328344        -0.02    0.000000  \n",
       "1     0.071450  0.421353        -0.53    0.558189  \n",
       "2     0.074841  0.365808         0.28   -0.412931  \n",
       "3     0.070911  0.327058         0.30   -0.054869  \n",
       "4     0.072183  0.372113        -0.21    0.143906  "
      ]
     },
     "execution_count": 4,
     "metadata": {},
     "output_type": "execute_result"
    }
   ],
   "source": [
    "df_pnl['expiration'] = pd.to_datetime(df_pnl['expiration'])\n",
    "df_pnl['data_date'] = pd.to_datetime(df_pnl['data_date'])\n",
    "df_pnl.head()"
   ]
  },
  {
   "cell_type": "markdown",
   "metadata": {},
   "source": [
    "We are interested in total pnl, which is the sum of the option pnl and the delta-hedge PNL.  Let's add a column called `dly_tot_pnl` which captures this logic."
   ]
  },
  {
   "cell_type": "code",
   "execution_count": 5,
   "metadata": {},
   "outputs": [
    {
     "data": {
      "text/html": [
       "<div>\n",
       "<style scoped>\n",
       "    .dataframe tbody tr th:only-of-type {\n",
       "        vertical-align: middle;\n",
       "    }\n",
       "\n",
       "    .dataframe tbody tr th {\n",
       "        vertical-align: top;\n",
       "    }\n",
       "\n",
       "    .dataframe thead th {\n",
       "        text-align: right;\n",
       "    }\n",
       "</style>\n",
       "<table border=\"1\" class=\"dataframe\">\n",
       "  <thead>\n",
       "    <tr style=\"text-align: right;\">\n",
       "      <th></th>\n",
       "      <th>underlying</th>\n",
       "      <th>upx</th>\n",
       "      <th>type</th>\n",
       "      <th>expiration</th>\n",
       "      <th>data_date</th>\n",
       "      <th>strike</th>\n",
       "      <th>bid</th>\n",
       "      <th>ask</th>\n",
       "      <th>implied_vol</th>\n",
       "      <th>delta</th>\n",
       "      <th>dly_opt_pnl</th>\n",
       "      <th>dly_dh_pnl</th>\n",
       "      <th>dly_tot_pnl</th>\n",
       "    </tr>\n",
       "  </thead>\n",
       "  <tbody>\n",
       "    <tr>\n",
       "      <th>0</th>\n",
       "      <td>SPY</td>\n",
       "      <td>266.529999</td>\n",
       "      <td>call</td>\n",
       "      <td>2018-01-19</td>\n",
       "      <td>2017-12-15</td>\n",
       "      <td>270</td>\n",
       "      <td>1.14</td>\n",
       "      <td>1.16</td>\n",
       "      <td>0.068257</td>\n",
       "      <td>0.328344</td>\n",
       "      <td>-0.02</td>\n",
       "      <td>0.000000</td>\n",
       "      <td>-0.020000</td>\n",
       "    </tr>\n",
       "    <tr>\n",
       "      <th>1</th>\n",
       "      <td>SPY</td>\n",
       "      <td>268.230011</td>\n",
       "      <td>call</td>\n",
       "      <td>2018-01-19</td>\n",
       "      <td>2017-12-18</td>\n",
       "      <td>270</td>\n",
       "      <td>1.68</td>\n",
       "      <td>1.69</td>\n",
       "      <td>0.071450</td>\n",
       "      <td>0.421353</td>\n",
       "      <td>-0.53</td>\n",
       "      <td>0.558189</td>\n",
       "      <td>0.028189</td>\n",
       "    </tr>\n",
       "    <tr>\n",
       "      <th>2</th>\n",
       "      <td>SPY</td>\n",
       "      <td>267.250000</td>\n",
       "      <td>call</td>\n",
       "      <td>2018-01-19</td>\n",
       "      <td>2017-12-19</td>\n",
       "      <td>270</td>\n",
       "      <td>1.39</td>\n",
       "      <td>1.41</td>\n",
       "      <td>0.074841</td>\n",
       "      <td>0.365808</td>\n",
       "      <td>0.28</td>\n",
       "      <td>-0.412931</td>\n",
       "      <td>-0.132931</td>\n",
       "    </tr>\n",
       "    <tr>\n",
       "      <th>3</th>\n",
       "      <td>SPY</td>\n",
       "      <td>267.100006</td>\n",
       "      <td>call</td>\n",
       "      <td>2018-01-19</td>\n",
       "      <td>2017-12-20</td>\n",
       "      <td>270</td>\n",
       "      <td>1.10</td>\n",
       "      <td>1.11</td>\n",
       "      <td>0.070911</td>\n",
       "      <td>0.327058</td>\n",
       "      <td>0.30</td>\n",
       "      <td>-0.054869</td>\n",
       "      <td>0.245131</td>\n",
       "    </tr>\n",
       "    <tr>\n",
       "      <th>4</th>\n",
       "      <td>SPY</td>\n",
       "      <td>267.540009</td>\n",
       "      <td>call</td>\n",
       "      <td>2018-01-19</td>\n",
       "      <td>2017-12-21</td>\n",
       "      <td>270</td>\n",
       "      <td>1.31</td>\n",
       "      <td>1.32</td>\n",
       "      <td>0.072183</td>\n",
       "      <td>0.372113</td>\n",
       "      <td>-0.21</td>\n",
       "      <td>0.143906</td>\n",
       "      <td>-0.066094</td>\n",
       "    </tr>\n",
       "  </tbody>\n",
       "</table>\n",
       "</div>"
      ],
      "text/plain": [
       "  underlying         upx  type expiration  data_date  strike   bid   ask  \\\n",
       "0        SPY  266.529999  call 2018-01-19 2017-12-15     270  1.14  1.16   \n",
       "1        SPY  268.230011  call 2018-01-19 2017-12-18     270  1.68  1.69   \n",
       "2        SPY  267.250000  call 2018-01-19 2017-12-19     270  1.39  1.41   \n",
       "3        SPY  267.100006  call 2018-01-19 2017-12-20     270  1.10  1.11   \n",
       "4        SPY  267.540009  call 2018-01-19 2017-12-21     270  1.31  1.32   \n",
       "\n",
       "   implied_vol     delta  dly_opt_pnl  dly_dh_pnl  dly_tot_pnl  \n",
       "0     0.068257  0.328344        -0.02    0.000000    -0.020000  \n",
       "1     0.071450  0.421353        -0.53    0.558189     0.028189  \n",
       "2     0.074841  0.365808         0.28   -0.412931    -0.132931  \n",
       "3     0.070911  0.327058         0.30   -0.054869     0.245131  \n",
       "4     0.072183  0.372113        -0.21    0.143906    -0.066094  "
      ]
     },
     "execution_count": 5,
     "metadata": {},
     "output_type": "execute_result"
    }
   ],
   "source": [
    "df_pnl['dly_tot_pnl'] = df_pnl['dly_opt_pnl'] + df_pnl['dly_dh_pnl']\n",
    "df_pnl.head()"
   ]
  },
  {
   "cell_type": "markdown",
   "metadata": {},
   "source": [
    "As the final step of our wrangling, let's extract the year and month of the expiration date, as this is what we will use for grouping."
   ]
  },
  {
   "cell_type": "code",
   "execution_count": 6,
   "metadata": {},
   "outputs": [
    {
     "data": {
      "text/html": [
       "<div>\n",
       "<style scoped>\n",
       "    .dataframe tbody tr th:only-of-type {\n",
       "        vertical-align: middle;\n",
       "    }\n",
       "\n",
       "    .dataframe tbody tr th {\n",
       "        vertical-align: top;\n",
       "    }\n",
       "\n",
       "    .dataframe thead th {\n",
       "        text-align: right;\n",
       "    }\n",
       "</style>\n",
       "<table border=\"1\" class=\"dataframe\">\n",
       "  <thead>\n",
       "    <tr style=\"text-align: right;\">\n",
       "      <th></th>\n",
       "      <th>underlying</th>\n",
       "      <th>upx</th>\n",
       "      <th>type</th>\n",
       "      <th>expiration</th>\n",
       "      <th>data_date</th>\n",
       "      <th>strike</th>\n",
       "      <th>bid</th>\n",
       "      <th>ask</th>\n",
       "      <th>implied_vol</th>\n",
       "      <th>delta</th>\n",
       "      <th>dly_opt_pnl</th>\n",
       "      <th>dly_dh_pnl</th>\n",
       "      <th>dly_tot_pnl</th>\n",
       "      <th>year</th>\n",
       "      <th>month</th>\n",
       "    </tr>\n",
       "  </thead>\n",
       "  <tbody>\n",
       "    <tr>\n",
       "      <th>0</th>\n",
       "      <td>SPY</td>\n",
       "      <td>266.529999</td>\n",
       "      <td>call</td>\n",
       "      <td>2018-01-19</td>\n",
       "      <td>2017-12-15</td>\n",
       "      <td>270</td>\n",
       "      <td>1.14</td>\n",
       "      <td>1.16</td>\n",
       "      <td>0.068257</td>\n",
       "      <td>0.328344</td>\n",
       "      <td>-0.02</td>\n",
       "      <td>0.000000</td>\n",
       "      <td>-0.020000</td>\n",
       "      <td>2018</td>\n",
       "      <td>1</td>\n",
       "    </tr>\n",
       "    <tr>\n",
       "      <th>1</th>\n",
       "      <td>SPY</td>\n",
       "      <td>268.230011</td>\n",
       "      <td>call</td>\n",
       "      <td>2018-01-19</td>\n",
       "      <td>2017-12-18</td>\n",
       "      <td>270</td>\n",
       "      <td>1.68</td>\n",
       "      <td>1.69</td>\n",
       "      <td>0.071450</td>\n",
       "      <td>0.421353</td>\n",
       "      <td>-0.53</td>\n",
       "      <td>0.558189</td>\n",
       "      <td>0.028189</td>\n",
       "      <td>2018</td>\n",
       "      <td>1</td>\n",
       "    </tr>\n",
       "    <tr>\n",
       "      <th>2</th>\n",
       "      <td>SPY</td>\n",
       "      <td>267.250000</td>\n",
       "      <td>call</td>\n",
       "      <td>2018-01-19</td>\n",
       "      <td>2017-12-19</td>\n",
       "      <td>270</td>\n",
       "      <td>1.39</td>\n",
       "      <td>1.41</td>\n",
       "      <td>0.074841</td>\n",
       "      <td>0.365808</td>\n",
       "      <td>0.28</td>\n",
       "      <td>-0.412931</td>\n",
       "      <td>-0.132931</td>\n",
       "      <td>2018</td>\n",
       "      <td>1</td>\n",
       "    </tr>\n",
       "    <tr>\n",
       "      <th>3</th>\n",
       "      <td>SPY</td>\n",
       "      <td>267.100006</td>\n",
       "      <td>call</td>\n",
       "      <td>2018-01-19</td>\n",
       "      <td>2017-12-20</td>\n",
       "      <td>270</td>\n",
       "      <td>1.10</td>\n",
       "      <td>1.11</td>\n",
       "      <td>0.070911</td>\n",
       "      <td>0.327058</td>\n",
       "      <td>0.30</td>\n",
       "      <td>-0.054869</td>\n",
       "      <td>0.245131</td>\n",
       "      <td>2018</td>\n",
       "      <td>1</td>\n",
       "    </tr>\n",
       "    <tr>\n",
       "      <th>4</th>\n",
       "      <td>SPY</td>\n",
       "      <td>267.540009</td>\n",
       "      <td>call</td>\n",
       "      <td>2018-01-19</td>\n",
       "      <td>2017-12-21</td>\n",
       "      <td>270</td>\n",
       "      <td>1.31</td>\n",
       "      <td>1.32</td>\n",
       "      <td>0.072183</td>\n",
       "      <td>0.372113</td>\n",
       "      <td>-0.21</td>\n",
       "      <td>0.143906</td>\n",
       "      <td>-0.066094</td>\n",
       "      <td>2018</td>\n",
       "      <td>1</td>\n",
       "    </tr>\n",
       "  </tbody>\n",
       "</table>\n",
       "</div>"
      ],
      "text/plain": [
       "  underlying         upx  type expiration  data_date  strike   bid   ask  \\\n",
       "0        SPY  266.529999  call 2018-01-19 2017-12-15     270  1.14  1.16   \n",
       "1        SPY  268.230011  call 2018-01-19 2017-12-18     270  1.68  1.69   \n",
       "2        SPY  267.250000  call 2018-01-19 2017-12-19     270  1.39  1.41   \n",
       "3        SPY  267.100006  call 2018-01-19 2017-12-20     270  1.10  1.11   \n",
       "4        SPY  267.540009  call 2018-01-19 2017-12-21     270  1.31  1.32   \n",
       "\n",
       "   implied_vol     delta  dly_opt_pnl  dly_dh_pnl  dly_tot_pnl  year  month  \n",
       "0     0.068257  0.328344        -0.02    0.000000    -0.020000  2018      1  \n",
       "1     0.071450  0.421353        -0.53    0.558189     0.028189  2018      1  \n",
       "2     0.074841  0.365808         0.28   -0.412931    -0.132931  2018      1  \n",
       "3     0.070911  0.327058         0.30   -0.054869     0.245131  2018      1  \n",
       "4     0.072183  0.372113        -0.21    0.143906    -0.066094  2018      1  "
      ]
     },
     "execution_count": 6,
     "metadata": {},
     "output_type": "execute_result"
    }
   ],
   "source": [
    "df_pnl['year'] = df_pnl['expiration'].dt.year\n",
    "df_pnl['month'] = df_pnl['expiration'].dt.month\n",
    "df_pnl.head()"
   ]
  },
  {
   "cell_type": "markdown",
   "metadata": {},
   "source": [
    "### `groupby()` and `agg()`"
   ]
  },
  {
   "cell_type": "markdown",
   "metadata": {},
   "source": [
    "We are interested in graphing the PNLs by expiration, so let's sum up the total-pnl by the year and month of the expiration:"
   ]
  },
  {
   "cell_type": "code",
   "execution_count": 12,
   "metadata": {},
   "outputs": [
    {
     "data": {
      "text/html": [
       "<div>\n",
       "<style scoped>\n",
       "    .dataframe tbody tr th:only-of-type {\n",
       "        vertical-align: middle;\n",
       "    }\n",
       "\n",
       "    .dataframe tbody tr th {\n",
       "        vertical-align: top;\n",
       "    }\n",
       "\n",
       "    .dataframe thead th {\n",
       "        text-align: right;\n",
       "    }\n",
       "</style>\n",
       "<table border=\"1\" class=\"dataframe\">\n",
       "  <thead>\n",
       "    <tr style=\"text-align: right;\">\n",
       "      <th></th>\n",
       "      <th>year</th>\n",
       "      <th>month</th>\n",
       "      <th>sum</th>\n",
       "    </tr>\n",
       "  </thead>\n",
       "  <tbody>\n",
       "    <tr>\n",
       "      <th>0</th>\n",
       "      <td>2018</td>\n",
       "      <td>1</td>\n",
       "      <td>0.091963</td>\n",
       "    </tr>\n",
       "    <tr>\n",
       "      <th>1</th>\n",
       "      <td>2018</td>\n",
       "      <td>2</td>\n",
       "      <td>-2.759090</td>\n",
       "    </tr>\n",
       "    <tr>\n",
       "      <th>2</th>\n",
       "      <td>2018</td>\n",
       "      <td>3</td>\n",
       "      <td>-0.340270</td>\n",
       "    </tr>\n",
       "    <tr>\n",
       "      <th>3</th>\n",
       "      <td>2018</td>\n",
       "      <td>4</td>\n",
       "      <td>-1.174222</td>\n",
       "    </tr>\n",
       "    <tr>\n",
       "      <th>4</th>\n",
       "      <td>2018</td>\n",
       "      <td>5</td>\n",
       "      <td>1.487206</td>\n",
       "    </tr>\n",
       "  </tbody>\n",
       "</table>\n",
       "</div>"
      ],
      "text/plain": [
       "   year  month       sum\n",
       "0  2018      1  0.091963\n",
       "1  2018      2 -2.759090\n",
       "2  2018      3 -0.340270\n",
       "3  2018      4 -1.174222\n",
       "4  2018      5  1.487206"
      ]
     },
     "execution_count": 12,
     "metadata": {},
     "output_type": "execute_result"
    }
   ],
   "source": [
    "df_monthly = \\\n",
    "    df_pnl.groupby(['year', 'month'])['dly_tot_pnl'].agg([np.sum]).reset_index()\n",
    "df_monthly.head()"
   ]
  },
  {
   "cell_type": "markdown",
   "metadata": {},
   "source": [
    "Before we proceed to graphing, let's change the name of the aggregated pnl column to something more meaningful."
   ]
  },
  {
   "cell_type": "code",
   "execution_count": 14,
   "metadata": {},
   "outputs": [],
   "source": [
    "df_monthly.rename(columns={'sum':'monthly_pnl'}, inplace=True)"
   ]
  },
  {
   "cell_type": "markdown",
   "metadata": {},
   "source": [
    "### Visualizing the Data"
   ]
  },
  {
   "cell_type": "markdown",
   "metadata": {},
   "source": [
    "Creating a simple bar graph of the pnls in `df_monthly` can be done easily with a single line of code:"
   ]
  },
  {
   "cell_type": "code",
   "execution_count": 18,
   "metadata": {},
   "outputs": [
    {
     "data": {
      "image/png": "[encoded data removed]",
      "text/plain": [
       "<Figure size 432x288 with 1 Axes>"
      ]
     },
     "metadata": {
      "needs_background": "light"
     },
     "output_type": "display_data"
    }
   ],
   "source": [
    "df_monthly.plot(x='month', y='monthly_pnl', kind='bar');"
   ]
  },
  {
   "cell_type": "markdown",
   "metadata": {},
   "source": [
    "While the above graph may be fine for EDA purposes, it still leaves much to be desired, especially if our intention is to share it with a broader audience. \n",
    "\n",
    "\n",
    "The following code makes several of modifications to improve its appearance:"
   ]
  },
  {
   "cell_type": "code",
   "execution_count": 20,
   "metadata": {},
   "outputs": [
    {
     "data": {
      "image/png": "[encoded data removed]",
      "text/plain": [
       "<Figure size 576x288 with 1 Axes>"
      ]
     },
     "metadata": {
      "needs_background": "light"
     },
     "output_type": "display_data"
    }
   ],
   "source": [
    "ax = \\\n",
    "    df_monthly.\\\n",
    "        plot(\n",
    "            x = 'month',\n",
    "            y = 'monthly_pnl',\n",
    "            kind='bar',\n",
    "            color='k', # color is grey\n",
    "            grid=True , # adding a grid\n",
    "            alpha=0.75, # translucence\n",
    "            width=0.8, # increasing the width of the bars\n",
    "            title='Monthly PNL for SPY Calls',\n",
    "            figsize=(8, 4), # modifying the figure size\n",
    "        );\n",
    "\n",
    "ax.set_xlabel(\"Month\"); # x axis label\n",
    "ax.set_ylabel(\"PNL\");   # y axis label"
   ]
  },
  {
   "cell_type": "markdown",
   "metadata": {},
   "source": [
    " "
   ]
  },
  {
   "cell_type": "markdown",
   "metadata": {},
   "source": [
    "**Code Challenge:** Google and try to find how you creat a *horizontal* bar graph using `pandas`."
   ]
  },
  {
   "cell_type": "code",
   "execution_count": 21,
   "metadata": {},
   "outputs": [
    {
     "data": {
      "image/png": "[encoded data removed]",
      "text/plain": [
       "<Figure size 576x288 with 1 Axes>"
      ]
     },
     "metadata": {
      "needs_background": "light"
     },
     "output_type": "display_data"
    }
   ],
   "source": [
    "ax = \\\n",
    "    df_monthly.\\\n",
    "        plot(\n",
    "            x = 'month',\n",
    "            y = 'monthly_pnl',\n",
    "            kind='barh', # changed to barh\n",
    "            color='k', # color is grey\n",
    "            grid=True , # adding a grid\n",
    "            alpha=0.75, # translucence\n",
    "            width=0.8, # increasing the width of the bars\n",
    "            title='Monthly PNL for SPY Calls',\n",
    "            figsize=(8, 4), # modifying the figure size\n",
    "        );\n",
    "\n",
    "ax.set_xlabel(\"Month\"); # x axis label\n",
    "ax.set_ylabel(\"PNL\"); "
   ]
  },
  {
   "cell_type": "markdown",
   "metadata": {},
   "source": [
    "### A Few Words About Visualization"
   ]
  },
  {
   "cell_type": "markdown",
   "metadata": {},
   "source": [
    "Visualizing data can be an effective way of communicating results to others or exploring data on your own.  The benefit of comes into focus when we can convey a particular result more quickly and more viscerally with a graph rather than a table of numbers.\n",
    "\n",
    "This is nicely illustrated by comparing our bar graph to the original `DataFrame` of data.  Consider the following question: \n",
    "\n",
    "*What were the two worst PNL months for these SPY calls?*\n",
    "\n",
    "Do you find it easier to answer the question using the bar graph or the table?  Explain why?"
   ]
  },
  {
   "cell_type": "code",
   "execution_count": 24,
   "metadata": {},
   "outputs": [
    {
     "data": {
      "image/png": "[encoded data removed]",
      "text/plain": [
       "<Figure size 576x288 with 1 Axes>"
      ]
     },
     "metadata": {
      "needs_background": "light"
     },
     "output_type": "display_data"
    }
   ],
   "source": [
    "ax = \\\n",
    "    df_monthly.\\\n",
    "        plot(\n",
    "            x = 'month',\n",
    "            y = 'monthly_pnl',\n",
    "            kind = 'bar', \n",
    "            color='k', # color is grey\n",
    "            grid=True, # adding a grid\n",
    "            alpha=0.75, # translucence\n",
    "            width=0.8, # increasing the width of the bars\n",
    "            title='Monthly PNL for SPY Calls',\n",
    "            figsize=(8, 4), # modifying the figure size\n",
    "        );\n",
    "\n",
    "ax.set_xlabel(\"Month\"); # x axis label\n",
    "ax.set_ylabel(\"PNL\");   # y axis label"
   ]
  },
  {
   "cell_type": "code",
   "execution_count": 23,
   "metadata": {},
   "outputs": [
    {
     "data": {
      "text/html": [
       "<div>\n",
       "<style scoped>\n",
       "    .dataframe tbody tr th:only-of-type {\n",
       "        vertical-align: middle;\n",
       "    }\n",
       "\n",
       "    .dataframe tbody tr th {\n",
       "        vertical-align: top;\n",
       "    }\n",
       "\n",
       "    .dataframe thead th {\n",
       "        text-align: right;\n",
       "    }\n",
       "</style>\n",
       "<table border=\"1\" class=\"dataframe\">\n",
       "  <thead>\n",
       "    <tr style=\"text-align: right;\">\n",
       "      <th></th>\n",
       "      <th>year</th>\n",
       "      <th>month</th>\n",
       "      <th>monthly_pnl</th>\n",
       "    </tr>\n",
       "  </thead>\n",
       "  <tbody>\n",
       "    <tr>\n",
       "      <th>0</th>\n",
       "      <td>2018</td>\n",
       "      <td>1</td>\n",
       "      <td>0.091963</td>\n",
       "    </tr>\n",
       "    <tr>\n",
       "      <th>1</th>\n",
       "      <td>2018</td>\n",
       "      <td>2</td>\n",
       "      <td>-2.759090</td>\n",
       "    </tr>\n",
       "    <tr>\n",
       "      <th>2</th>\n",
       "      <td>2018</td>\n",
       "      <td>3</td>\n",
       "      <td>-0.340270</td>\n",
       "    </tr>\n",
       "    <tr>\n",
       "      <th>3</th>\n",
       "      <td>2018</td>\n",
       "      <td>4</td>\n",
       "      <td>-1.174222</td>\n",
       "    </tr>\n",
       "    <tr>\n",
       "      <th>4</th>\n",
       "      <td>2018</td>\n",
       "      <td>5</td>\n",
       "      <td>1.487206</td>\n",
       "    </tr>\n",
       "    <tr>\n",
       "      <th>5</th>\n",
       "      <td>2018</td>\n",
       "      <td>6</td>\n",
       "      <td>0.644469</td>\n",
       "    </tr>\n",
       "    <tr>\n",
       "      <th>6</th>\n",
       "      <td>2018</td>\n",
       "      <td>7</td>\n",
       "      <td>0.516556</td>\n",
       "    </tr>\n",
       "    <tr>\n",
       "      <th>7</th>\n",
       "      <td>2018</td>\n",
       "      <td>8</td>\n",
       "      <td>0.195526</td>\n",
       "    </tr>\n",
       "    <tr>\n",
       "      <th>8</th>\n",
       "      <td>2018</td>\n",
       "      <td>9</td>\n",
       "      <td>0.753701</td>\n",
       "    </tr>\n",
       "    <tr>\n",
       "      <th>9</th>\n",
       "      <td>2018</td>\n",
       "      <td>10</td>\n",
       "      <td>-0.133537</td>\n",
       "    </tr>\n",
       "    <tr>\n",
       "      <th>10</th>\n",
       "      <td>2018</td>\n",
       "      <td>11</td>\n",
       "      <td>-0.979537</td>\n",
       "    </tr>\n",
       "    <tr>\n",
       "      <th>11</th>\n",
       "      <td>2018</td>\n",
       "      <td>12</td>\n",
       "      <td>-2.085526</td>\n",
       "    </tr>\n",
       "  </tbody>\n",
       "</table>\n",
       "</div>"
      ],
      "text/plain": [
       "    year  month  monthly_pnl\n",
       "0   2018      1     0.091963\n",
       "1   2018      2    -2.759090\n",
       "2   2018      3    -0.340270\n",
       "3   2018      4    -1.174222\n",
       "4   2018      5     1.487206\n",
       "5   2018      6     0.644469\n",
       "6   2018      7     0.516556\n",
       "7   2018      8     0.195526\n",
       "8   2018      9     0.753701\n",
       "9   2018     10    -0.133537\n",
       "10  2018     11    -0.979537\n",
       "11  2018     12    -2.085526"
      ]
     },
     "execution_count": 23,
     "metadata": {},
     "output_type": "execute_result"
    }
   ],
   "source": [
    "df_monthly"
   ]
  },
  {
   "cell_type": "markdown",
   "metadata": {},
   "source": [
    "### Related Reading\n",
    "\n",
    "*P4DA* - 8.2 - Plotting Functions in `pandas` "
   ]
  }
 ],
 "metadata": {
  "kernelspec": {
   "display_name": "Python 3",
   "language": "python",
   "name": "python3"
  },
  "language_info": {
   "codemirror_mode": {
    "name": "ipython",
    "version": 3
   },
   "file_extension": ".py",
   "mimetype": "text/x-python",
   "name": "python",
   "nbconvert_exporter": "python",
   "pygments_lexer": "ipython3",
   "version": "3.8.10"
  }
 },
 "nbformat": 4,
 "nbformat_minor": 4
}
