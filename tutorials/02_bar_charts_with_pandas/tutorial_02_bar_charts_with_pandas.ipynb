{
 "cells": [
  {
   "cell_type": "markdown",
   "metadata": {},
   "source": [
    "# Tutorial 13 - Bar Charts with Pandas"
   ]
  },
  {
   "cell_type": "markdown",
   "metadata": {},
   "source": [
    "The purpose of this tutorial is to demonstrate how to easily generate bar charts with the `pandas` built-in `.plot()` function.\n",
    "\n",
    "We apply this technique to the task of visualizing monthly pnls for the `spy_2018_call_pnl.csv` data set."
   ]
  },
  {
   "cell_type": "markdown",
   "metadata": {},
   "source": [
    "### Load Packages"
   ]
  },
  {
   "cell_type": "markdown",
   "metadata": {},
   "source": [
    "Let's begin by loading the packages we need:"
   ]
  },
  {
   "cell_type": "code",
   "execution_count": null,
   "metadata": {},
   "outputs": [],
   "source": [
    "##> import numpy as np\n",
    "##> import pandas as pd\n",
    "##> %matplotlib inline\n",
    "\n",
    "\n"
   ]
  },
  {
   "cell_type": "markdown",
   "metadata": {},
   "source": [
    "**Knowledge Challenge:** What is the purpose of this line of code in the above cell: `%matplotlib inline`?"
   ]
  },
  {
   "cell_type": "code",
   "execution_count": null,
   "metadata": {},
   "outputs": [],
   "source": [
    "\n",
    "\n",
    "\n"
   ]
  },
  {
   "cell_type": "markdown",
   "metadata": {},
   "source": [
    "### Reading-In Data"
   ]
  },
  {
   "cell_type": "markdown",
   "metadata": {},
   "source": [
    "Next, let's read in the data from the CSV file:"
   ]
  },
  {
   "cell_type": "code",
   "execution_count": null,
   "metadata": {},
   "outputs": [],
   "source": [
    "##> df_pnl = pd.read_csv('../data/spy_2018_call_pnl.csv')\n",
    "##> df_pnl.head()\n",
    "\n",
    "\n"
   ]
  },
  {
   "cell_type": "markdown",
   "metadata": {},
   "source": [
    "This is the same data set as Exercise 06.  It consists of daily PNLs from 12 different SPY short call trades throughout 2018."
   ]
  },
  {
   "cell_type": "markdown",
   "metadata": {},
   "source": [
    "### Wrangling"
   ]
  },
  {
   "cell_type": "markdown",
   "metadata": {},
   "source": [
    "First, we will need to refactor the `expiration` and `data_date` columns to `datetime` using the `pd.to_datetime()` method."
   ]
  },
  {
   "cell_type": "code",
   "execution_count": null,
   "metadata": {},
   "outputs": [],
   "source": [
    "##> df_pnl['expiration'] = pd.to_datetime(df_pnl['expiration'])\n",
    "##> df_pnl['data_date'] = pd.to_datetime(df_pnl['data_date'])\n",
    "\n",
    "\n"
   ]
  },
  {
   "cell_type": "markdown",
   "metadata": {},
   "source": [
    "We are interested in total pnl, which is the sum of the option pnl and the delta-hedge PNL.  Let's add a column called `dly_tot_pnl` which captures this logic."
   ]
  },
  {
   "cell_type": "code",
   "execution_count": null,
   "metadata": {},
   "outputs": [],
   "source": [
    "##> df_pnl['dly_tot_pnl'] = df_pnl['dly_opt_pnl'] + df_pnl['dly_dh_pnl']\n",
    "\n"
   ]
  },
  {
   "cell_type": "markdown",
   "metadata": {},
   "source": [
    "As the final step of our wrangling, let's extract the year and month of the expiration date, as this is what we will use for grouping."
   ]
  },
  {
   "cell_type": "code",
   "execution_count": null,
   "metadata": {},
   "outputs": [],
   "source": [
    "##> df_pnl['year'] = df_pnl['expiration'].dt.year\n",
    "##> df_pnl['month'] = df_pnl['expiration'].dt.month\n",
    "\n",
    "\n"
   ]
  },
  {
   "cell_type": "markdown",
   "metadata": {},
   "source": [
    "### `groupby()` and `agg()`"
   ]
  },
  {
   "cell_type": "markdown",
   "metadata": {},
   "source": [
    "We are interested in graphing the PNLs by expiration, so let's sum up the total-pnl by the year and month of the expiration:"
   ]
  },
  {
   "cell_type": "code",
   "execution_count": null,
   "metadata": {},
   "outputs": [],
   "source": [
    "##> df_monthly = \\\n",
    "##>     df_pnl.groupby(['year', 'month'])['dly_tot_pnl'].agg([np.sum]).reset_index()\n",
    "\n",
    "\n"
   ]
  },
  {
   "cell_type": "markdown",
   "metadata": {},
   "source": [
    "We're ultimately going to use the `month` column to the graph the data, so let's set this as the index."
   ]
  },
  {
   "cell_type": "code",
   "execution_count": null,
   "metadata": {},
   "outputs": [],
   "source": [
    "##> df_monthly.set_index(['month'], inplace=True)\n",
    "\n"
   ]
  },
  {
   "cell_type": "markdown",
   "metadata": {},
   "source": [
    "Before we proceed to graphing, let's change the name of the aggregated pnl column to something more meaningful."
   ]
  },
  {
   "cell_type": "code",
   "execution_count": null,
   "metadata": {},
   "outputs": [],
   "source": [
    "##> df_monthly.rename(columns={'sum':'monthly_pnl'}, inplace=True)\n",
    "\n"
   ]
  },
  {
   "cell_type": "markdown",
   "metadata": {},
   "source": [
    "### Visualizing the Data"
   ]
  },
  {
   "cell_type": "markdown",
   "metadata": {},
   "source": [
    "Creating a simple bar graph of the pnls in `df_monthly` can be done easily with a single line of code:"
   ]
  },
  {
   "cell_type": "code",
   "execution_count": null,
   "metadata": {},
   "outputs": [],
   "source": [
    "##> df_monthly['monthly_pnl'].plot(kind='bar');\n",
    "\n"
   ]
  },
  {
   "cell_type": "markdown",
   "metadata": {},
   "source": [
    "While the above graph may be fine for EDA purposes, it still leaves much to be desired, especially if our intention is to share it with a broader audience. \n",
    "\n",
    "\n",
    "The following code makes several of modifications to improve its appearance:"
   ]
  },
  {
   "cell_type": "code",
   "execution_count": null,
   "metadata": {},
   "outputs": [],
   "source": [
    "##> ax =\\\n",
    "##>     df_monthly['monthly_pnl'].\\\n",
    "##>         plot(\n",
    "##>             kind='bar'\n",
    "##>             , color='k' # color is greay\n",
    "##>             , grid=True # adding a grid\n",
    "##>             , alpha=0.75 # translucence\n",
    "##>             , width=0.8 # increasing the width of the bars\n",
    "##>             , title='Monthly PNL for SPY Calls'\n",
    "##>             , figsize=(8, 4) # modifying the figure size\n",
    "##>         );\n",
    "##> \n",
    "##> ax.set_xlabel(\"Month\"); # x axis label\n",
    "##> ax.set_ylabel(\"PNL\");   # y axis label\n",
    "\n",
    "\n"
   ]
  },
  {
   "cell_type": "markdown",
   "metadata": {},
   "source": [
    " "
   ]
  },
  {
   "cell_type": "markdown",
   "metadata": {},
   "source": [
    "**Code Challenge:** Google and try to find how you creat a *horizontal* bar graph using `pandas`."
   ]
  },
  {
   "cell_type": "code",
   "execution_count": null,
   "metadata": {},
   "outputs": [],
   "source": [
    "\n",
    "\n",
    "\n"
   ]
  },
  {
   "cell_type": "markdown",
   "metadata": {},
   "source": [
    "### A Few Words About Visualization"
   ]
  },
  {
   "cell_type": "markdown",
   "metadata": {},
   "source": [
    "Visualizing data can be an effective way of communicating results to others or exploring data on your own.  The benefit of visualization becomes self-evident when we can convey a particular result more quickly and more viscerally with a graph rather than a table of number.\n",
    "\n",
    "This is nicely illustrated by comparing our bar graph to the original `DataFrame` of data.  Consider the following question: \n",
    "\n",
    "*What were the two worst PNL months for these SPY calls?*\n",
    "\n",
    "Do you find it easier to answer the question using the bar graph or the table?  Explain why?"
   ]
  },
  {
   "cell_type": "code",
   "execution_count": null,
   "metadata": {},
   "outputs": [],
   "source": [
    "##> ax = \\\n",
    "##>     df_monthly['monthly_pnl'].\\\n",
    "##>         plot(\n",
    "##>             kind='bar'\n",
    "##>             , color='k' # color is greay\n",
    "##>             , grid=True # adding a grid\n",
    "##>             , alpha=0.75 # translucence\n",
    "##>             , width=0.8 # increasing the width of the bars\n",
    "##>             , title='Monthly PNL for SPY Calls'\n",
    "##>             , figsize=(8, 4) # modifying the figure size\n",
    "##>         );\n",
    "##> \n",
    "##> ax.set_xlabel(\"Month\"); # x axis label\n",
    "##> ax.set_ylabel(\"PNL\");   # y axis label\n",
    "\n",
    "\n"
   ]
  },
  {
   "cell_type": "code",
   "execution_count": null,
   "metadata": {},
   "outputs": [],
   "source": [
    "##> df_monthly\n",
    "\n"
   ]
  },
  {
   "cell_type": "markdown",
   "metadata": {},
   "source": [
    "### Related Reading\n",
    "\n",
    "*P4DA* - 8.2 - Plotting Functions in `pandas` "
   ]
  }
 ],
 "metadata": {
  "kernelspec": {
   "display_name": "Python 3",
   "language": "python",
   "name": "python3"
  },
  "language_info": {
   "codemirror_mode": {
    "name": "ipython",
    "version": 3
   },
   "file_extension": ".py",
   "mimetype": "text/x-python",
   "name": "python",
   "nbconvert_exporter": "python",
   "pygments_lexer": "ipython3",
   "version": "3.6.8"
  }
 },
 "nbformat": 4,
 "nbformat_minor": 2
}
